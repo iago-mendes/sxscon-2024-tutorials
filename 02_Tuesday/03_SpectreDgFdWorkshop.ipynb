{
 "cells": [
  {
   "cell_type": "code",
   "execution_count": null,
   "id": "0232e3f6-0813-4685-9cce-ce868ce72f81",
   "metadata": {},
   "outputs": [],
   "source": [
    "import spectre\n",
    "import spectre.IO.H5 as spectre_h5\n",
    "from spectre.Spectral import Mesh, Basis, Quadrature, logical_coordinates\n",
    "from spectre.DataStructures import DataVector, Index\n",
    "from spectre.DataStructures.Tensor import InverseJacobian, Jacobian, Scalar, tnsr\n",
    "from spectre.NumericalAlgorithms.LinearOperators import power_monitors\n",
    "import spectre.Evolution.DgSubcell as scl\n",
    "import spectre.IO.H5 as h5\n",
    "\n",
    "from matplotlib import pyplot as plt\n",
    "plt.rcParams[\"animation.html\"] = \"jshtml\"\n",
    "import matplotlib\n",
    "import matplotlib.animation\n",
    "import numpy as np\n",
    "\n",
    "# Set the path to the spectre bin directory. We will use this later for running executables.\n",
    "from pathlib import Path;\n",
    "spectre_bin_path = str(Path(spectre.__file__).parent.parent.parent)\n",
    "\n",
    "# Set up the path to the notebook. We assume input files are next to the notebook.\n",
    "import os\n",
    "notebook_path = os.getcwd()"
   ]
  },
  {
   "cell_type": "markdown",
   "id": "25aa8307-b6ad-4dfd-8c99-6d7d0ca85e16",
   "metadata": {},
   "source": [
    "# Discontinuous Galerkin-Finite Difference hybrid method\n",
    "\n",
    "**Please read** https://github.com/sxs-collaboration/sxscon-2024-tutorials/tree/main/02_Tuesday\n",
    "\n",
    "We will need some executables and targets compiled, so let's get that out of the way first.\n",
    "\n",
    "The goal of this notebook is to introduce the DG-FD hybrid method, including key ideas like how to decide when to switch back and forth between the two methods.\n",
    "\n",
    "DG or spectral methods work very well for smooth solutions. However, simulations of hydrodynamical flows have discontinuities and shocks which are difficult to handle with DG methods. While a number of strategies have been proposed in the literature, our experience has been that these are not generally robust enough for scientific applications. Instead, we supplement a DG method with a FD in regions where there are shocks. This allows us to gain the shock capturing capabilities of FD methods, which have a decades-long and rich history of development, with high-order accuracy and efficiency in smooth regions. You've already learned about DG methods, so we will briefly review FD methods and then discuss how we couple DG and FD together.\n",
    "\n",
    "We divide each DG element into multiple FD cells, which we often refer to as subcells. For FD methods we denote the frame in which the cell is Cartesian with a hat\n",
    "over the indices and the coordinates as $\\{\\xi,\\eta,\\zeta\\}$. In order to support FD on curved meshes SpECTRE now solves the\n",
    "equations in the form\n",
    "$$\n",
    "  \\frac{\\partial u}{\\partial t}\n",
    "  + \\frac{1}{J}\\partial_{\\hat{\\imath}}\n",
    "  \\left[\n",
    "  J\\frac{\\partial \\xi^{\\hat{\\imath}}}{\\partial x^i}\n",
    "  \\left(F^i-u v^i_g\\right)\\right]\n",
    "  = S - u\\partial_i v^i_g,\n",
    "    \\tag{1}\n",
    "$$\n",
    "where $v^i_g$ is the grid or mesh velocity and we can identify\n",
    "$F^{\\hat{\\imath}}=J\\frac{\\partial \\xi^{\\hat{\\imath}}}{\\partial x^i} F^i$ as the\n",
    "\"locally Cartesian flux\" in the reference coordinates. This is analogous to\n",
    "how DG schemes are formulated(https://arxiv.org/abs/1510.01190, https://arxiv.org/abs/2109.11645). In\n",
    "practice we compute the mesh velocity divergence on the DG grid and project it\n",
    "to the FD grid. While this form is somewhat different from the strong form used\n",
    "by our DG solver, we can still rewrite the equations in a form that naturally\n",
    "hybridizes with a DG solver. In particular, the boundary corrections $G$ in a DG\n",
    "scheme are essentially $n_iF^i$ where $n_i$ is the normal covector to the\n",
    "spatial element interface and in the logical $\\hat{\\imath}$ direction is given\n",
    "by\n",
    "$$\n",
    "  n^{(\\hat{\\imath})}_i=\\frac{\\partial \\xi^{(\\hat{\\imath})}}{\\partial x^i}\n",
    "  \\frac{1}{\\sqrt{\\frac{\\partial \\xi^{(\\hat{\\imath})}}{\\partial x^j}\n",
    "  \\gamma^{jk}\\frac{\\partial \\xi^{(\\hat{\\imath})}}{\\partial x^k}}}\n",
    "  =J\\frac{\\partial \\xi^{(\\hat{\\imath})}}{\\partial x^i}\n",
    "  \\frac{1}{\\sqrt{J\\frac{\\partial \\xi^{(\\hat{\\imath})}}{\\partial x^j}\n",
    "  \\gamma^{jk}J\\frac{\\partial \\xi^{(\\hat{\\imath})}}{\\partial x^k}}}.\n",
    "  \\tag{2}\n",
    "$$\n",
    "With $G^{(\\hat{\\imath})}$ as the boundary correction or numerical flux at the\n",
    "interface in direction $\\hat{\\imath}$, possibly including a high-order\n",
    "correction(https://arxiv.org/abs/0704.3206, https://arxiv.org/abs/1907.10328), we can write the discretized FD\n",
    "evolution equation as\n",
    "\\begin{align}\n",
    "  \\frac{\\partial u_{(\\xi,\\eta,\\zeta)}}{\\partial t} &= S_{(\\xi,\\eta,\\zeta)}\n",
    "  -u_{(\\xi,\\eta,\\zeta)} \\mathcal{P}(\\partial_i v^i_g)_{(\\xi,\\eta,\\zeta)}\n",
    "  \\nonumber \\\\\n",
    "  &- \\frac{1}{J_{(\\xi,\\eta,\\zeta)}}\\left[\n",
    "    \\frac{\\left(|n^{(\\hat{\\xi})}|G^{\\hat{(\\xi)}}\\right)_{(\\xi +\n",
    "    1/2,\\eta,\\zeta)}\n",
    "    -\\left(|n^{(\\hat{\\xi})}|G^{\\hat{(\\xi)}}\\right)_{(\\xi - 1/2,\\eta,\\zeta)}\n",
    "    }{\\Delta \\xi}\\right.\\nonumber\\\\\n",
    "  &\\left.+\n",
    "    \\frac{\\left(|n^{(\\hat{\\eta})}|G^{\\hat{(\\eta)}}\\right)_{(\\xi,\\eta +\n",
    "    1/2,\\zeta)}\n",
    "    -\\left(|n^{(\\hat{\\eta})}|G^{\\hat{(\\eta)}}\\right)_{(\\xi,\\eta - 1/2,\\zeta)}\n",
    "    }{\\Delta \\eta}\n",
    "    \\right.\\nonumber\\\\\n",
    "  &\\left.+\n",
    "    \\frac{\\left(|n^{(\\hat{\\zeta})}|G^{\\hat{(\\zeta)}}\\right)_{(\\xi,\\eta,\\zeta +\n",
    "    1/2)}\n",
    "    -\\left(|n^{(\\hat{\\zeta})}|G^{\\hat{(\\zeta)}}\\right)_{(\\xi,\\eta,\\zeta -\n",
    "    1/2)}\n",
    "    }{\\Delta \\zeta}\n",
    "    \\right],\n",
    "    \\tag{3}\n",
    "\\end{align}\n",
    "where $\\mathcal{P}$ is the projection operator from the DG to the FD grid as\n",
    "defined in(https://arxiv.org/abs/2109.11645) and\n",
    "$|n^{(\\hat{\\imath})}|=\\sqrt{J\\frac{\\partial \\xi^{(\\hat{\\imath})}}{\\partial\n",
    "    x^j}\\gamma^{jk}J\\frac{\\partial \\xi^{(\\hat{\\imath})}}{\\partial x^k}}$ or\n",
    "$|n^{(\\hat{\\imath})}|=\\sqrt{\\frac{\\partial \\xi^{(\\hat{\\imath})}}{\\partial\n",
    "    x^j}\\gamma^{jk}\\frac{\\partial \\xi^{(\\hat{\\imath})}}{\\partial x^k}}$ depending\n",
    "on which normal vector form is chosen. Since the correction $G^{(\\hat{\\imath})}$\n",
    "is exactly what is used in a DG scheme we can straightforwardly hybridize the\n",
    "two schemes in a conservative manner, independent of the exact DG or FD\n",
    "formulation used. The primary reason for using this discretized form is for easier\n",
    "implementation on curved meshes since in this form the equations are simply the\n",
    "standard Cartesian evolution equations.\n",
    "\n",
    "For pedagogical reasons we will focus on Cartesian meshes in this tutorial, but all\n",
    "of the concepts generalize to curved meshes. We will, however, use the form of the\n",
    "equations that generalizes.\n",
    "\n",
    "One of the more difficult aspects of FD and DG schemes is choosing the numerical fluxes/boundary corrections, $G$.\n",
    "The goal of choosing $G$ is to accurately approximate the amount of fluid or solution flowing both into and out of\n",
    "the FD or DG cell/element. In some cases there are actually exact solutions, such as for scalar waves, generalized harmonic,\n",
    "and Z4c. This allows you to choose a $G$ that allows the amount of information flowing out of the neighboring cell\n",
    "to flow exactly into your cell and vice-versa. This approach is call upwind-penalty and is somewhat tedious to derive\n",
    "so we will skip it. For folks with access to the SXS GitHub, you can see the details in the \"Methods\" section of our\n",
    "notes/book (https://github.com/sxs-collaboration/book-simulating-extreme-spacetimes). If you do not have access, please ask,\n",
    "even if you're outside of SXS.\n",
    "\n",
    "The simplest case is a central numerical flux, which is given by\n",
    "$$\n",
    "G=\\frac{1}{2}\\left(n_i F^i_{\\mathrm{int}}+n_i F^i_{\\mathrm{ext}}\\right)\n",
    "$$\n",
    "This does not work for discontinuous solutions. The simplest case for discontinuous solutions is the local Lax-Friedrichs or Rusanov\n",
    "numerical flux, given by\n",
    "$$\n",
    "G=\\frac{1}{2}\\left(n_i F^i_{\\mathrm{int}}+n_i F^i_{\\mathrm{ext}}\\right) -\\frac{|v_{\\mathrm{max}}|}{2}(u_{\\mathrm{ext}}-u_{\\mathrm{int}})\n",
    "$$\n",
    "This uses just the magnitude of the largest wave speed flowing into or out of the element. We can get more sophisticated by using\n",
    "the HLL numerical flux, given by\n",
    "$$\n",
    "G=\\frac{1}{s_{\\mathrm{max}}-s_{\\mathrm{min}}}\\left(s_{\\mathrm{max}}n_i F^i_{\\mathrm{int}}-s_{\\mathrm{min}}n_i F^i_{\\mathrm{ext}}\\right) -\\frac{s_{\\mathrm{max}}s_{\\mathrm{min}}}{s_{\\mathrm{max}}-s_{\\mathrm{min}}}(u_{\\mathrm{ext}}-u_{\\mathrm{int}})\n",
    "$$\n",
    "where\n",
    "$$\n",
    "s_{\\mathrm{min/max}}=\\mathrm{min/max}(v_{\\mathrm{int}},v_{\\mathrm{ext}}, 0).\n",
    "$$\n",
    "One word of caution, these all depend on the normal vectors and so you can get minus signs depending on how you choose the minus signs.\n",
    "\n",
    "There are much fancier numerical fluxes that include ever-more information about the flow, such as HLLC, HLLD (for magnetic fields), Roe, Marquina, etc. One tradeoff is that the fancier numerical fluxes tend to be less stable near strong shocks and large discontinuities, which means fancier is not always better. Unfortunately, because of this, hydrodynamics simulations are a bit of an art rather than a science.\n",
    "\n",
    "Another important note is that the solvers discussed above are all 1-dimensional. However, the fluid flow in 3d is actually genuinely 3d and so ideally you would have a multi-dimensional numerical flux. However, these are extremely difficult to derive and how stable they are is still unclear. Multi-dimensional numerical fluxes are very much still in their infancy as a research topic in applied maths."
   ]
  },
  {
   "cell_type": "markdown",
   "id": "f018a22f-4bf0-4727-8a20-230c3cfb1671",
   "metadata": {},
   "source": [
    "### 1. Setting up the mesh\n",
    "\n",
    "As a first step we will set up a 1d DG mesh that uses $N$ Legendre-Gauss-Lobatto points. We then compute the DG logical coordinates. For simplicity we will only work with the logical coordinates and not a coordinate map. This will be sufficient to illustrate the main points."
   ]
  },
  {
   "cell_type": "code",
   "execution_count": null,
   "id": "99e24f7a-f00d-45e1-b07d-c69bac1e7fd8",
   "metadata": {},
   "outputs": [],
   "source": [
    "dg_mesh = Mesh[1](20, Basis.Legendre, Quadrature.GaussLobatto)\n",
    "dg_logical_coords = logical_coordinates(dg_mesh)\n",
    "print(dg_logical_coords)"
   ]
  },
  {
   "cell_type": "markdown",
   "id": "6d829b30-1670-4a9a-b830-aaf95729280e",
   "metadata": {},
   "source": [
    "Now that we have we have the DG mesh we need to compute the associated FD mesh. So what is the \"correct\" FD mesh to use? Since FD methods are most easily formulated on evenly spaced grids, this means we want $M$ evenly spaced FD grid points. One option is to use the same number of FD and DG grid points. However, if we look at the maximum allowed time step size based on the CFL/Courant condition, for DG we have\n",
    "$$\n",
    "\\Delta t \\le \\frac{1}{D(2N-1)}\\frac{\\Delta x_{\\mathrm{element}}}{\\lambda_\\mathrm{max}}\n",
    "\\tag{4}\n",
    "$$\n",
    "where $D$ is the number of spatial dimensions, $\\Delta x_{\\mathrm{element}}$ the size of the DG element, and $\\lambda_\\mathrm{max}$ the maximum characteristic speed (i.e. the speed information is traveling at across the grid). For FD schemes the CFL/Courant condition is\n",
    "$$\n",
    "\\Delta t \\le \\frac{1}{D}\\frac{\\Delta x_{\\mathrm{cell}}}{\\lambda_\\mathrm{max}}\n",
    "\\tag{5}\n",
    "$$\n",
    "where $\\Delta x_{\\mathrm{cell}}$ is the size of an FD cell.\n",
    "\n",
    "Comparing these two conditions we see that we can use $M=2N-1$ FD grid points for the same time step size. This is what we do in SpECTRE. We compute the FD mesh associated with a DG mesh and the FD logical coordinates below."
   ]
  },
  {
   "cell_type": "code",
   "execution_count": null,
   "id": "dfbc14c1-d4f3-4563-a02f-5d763e6ef4f0",
   "metadata": {},
   "outputs": [],
   "source": [
    "fd_mesh = scl.mesh(dg_mesh)\n",
    "fd_logical_coords = logical_coordinates(fd_mesh)\n",
    "print(fd_logical_coords)"
   ]
  },
  {
   "cell_type": "markdown",
   "id": "e5ee9750-4fe2-4c6d-9eae-c36d7b99110d",
   "metadata": {},
   "source": [
    "Let's print the DG and FD mesh to compare."
   ]
  },
  {
   "cell_type": "code",
   "execution_count": null,
   "id": "d08a9645-cda2-4f81-9f53-fe406543a4ae",
   "metadata": {},
   "outputs": [],
   "source": [
    "print(dg_mesh, fd_mesh)"
   ]
  },
  {
   "cell_type": "markdown",
   "id": "0a8b70dd-600b-45ea-ac5d-a387d7926d0c",
   "metadata": {},
   "source": [
    "We see that the FD mesh does indeed have $M=2N-1$ grid points.\n",
    "\n",
    "Finally, let's plot the solution $y=0$ on the DG grid and $y=1$ on the FD grid to see how the points compared."
   ]
  },
  {
   "cell_type": "code",
   "execution_count": null,
   "id": "9bbe67bb-f560-4e3d-abd1-82fb3bba545e",
   "metadata": {},
   "outputs": [],
   "source": [
    "plt.plot(dg_logical_coords.get(0), np.full((dg_mesh.extents(0)), 0.0), marker='o', linestyle='', label=\"DG\")\n",
    "plt.plot(fd_logical_coords.get(0), np.full((fd_mesh.extents(0)), 1.0), marker='v', linestyle='', label=\"FD\")\n",
    "plt.legend()\n",
    "plt.show()"
   ]
  },
  {
   "cell_type": "markdown",
   "id": "7b4d4c20-a8d8-4444-ae45-745d2b8a94b8",
   "metadata": {},
   "source": [
    "We can see that the DG grid points are clustered towards the end points ($-1$ and $1$), while the FD grid points are uniformly spaced. Note that we use cell-centered FD grids, so there is no FD grid point at $-1$ or $1$."
   ]
  },
  {
   "cell_type": "markdown",
   "id": "dcb35695-9604-4bd4-b445-358738388113",
   "metadata": {},
   "source": [
    "### 2. Troubled Cell Indicators\n",
    "\n",
    "One of the most challenging parts of the DG-FD hybrid approach is deciding when it switch. While the details can get a bit complicated for the GRMHD system, the high level ideas are more straightforward. We can divide the troubled cell indicators (TCIs) into two classes\n",
    "1. Numerical: e.g. how oscillatory the solution is, how much it changes from one time step to the next\n",
    "2. Physical: e.g. is the density positive, can we recover the primitve variables, are speeds subluminal\n",
    "\n",
    "In practice a combination of both classes are used, typically in order of cheapest to most expensive to evaluate. The physical criteria depend on the physical system being considered, while the numerical ones are very general. An example that has been very successful is the Persson indicator, which will be the only one we discuss. Consider a discontinuity sensing\n",
    "quantity $u$, which is typically a scalar like the rest mass density but could be a tensor of any rank. Let\n",
    "$u$ have the 1d spectral decomposition:\n",
    "$$\n",
    "u(x)=\\sum_{i=0}^{N-1}c_i P_i(x),\n",
    "\\tag{6}\n",
    "$$\n",
    "where in our case $P_i(x)$ are Legendre polynomials, and $c_i$ are the spectral\n",
    "coefficients. The Persson TCI essentially\n",
    "monitors the percentage of power in the highest spectral coefficient(s). To do\n",
    "this, we define $\\hat{u}$ as\n",
    "\\begin{eqnarray}\n",
    "  \\hat{u}(x)=c_{N-1} P_{N-1}(x).\n",
    "\\end{eqnarray}\n",
    "and check that\n",
    "\\begin{eqnarray}\n",
    "  N^\\alpha \\sqrt{\\sum_{{\\hat{\\imath}}=0}^{N-1} \\hat{u}_{\\hat{\\imath}}^2} >\n",
    "  \\sqrt{\\sum_{{\\hat{\\imath}}=0}^{N-1}\n",
    "  u_{\\hat{\\imath}}^2},\n",
    "\\end{eqnarray}\n",
    "where $N^\\alpha$ can be precomputed and stored. Note that we find that this\n",
    "mathematically equivalent condition to our previous check (https://arxiv.org/abs/2109.11645),\n",
    "\\begin{eqnarray}\n",
    "  s^\\Omega=\\log_{10}\\left(\\sqrt{\\frac{\\sum_{{\\hat{\\imath}}=0}^{N-1}\n",
    "  \\hat{u}_{\\hat{\\imath}}^2}{\\sum_{{\\hat{\\imath}}=0}^{N-1}\n",
    "  u_{\\hat{\\imath}}^2}}\\right) <s^e=-\\alpha_N\\log_{10}(N),\n",
    "\\end{eqnarray}\n",
    "is cheaper and better behaved in the limit of $u\\to0$.\n",
    "\n",
    "Let's make some plots to get some intuition for what the Persson TCI looks. We will plot spectral coefficients for $\\sin(x)$ and a Heaviside step function $\\Theta(x)$, plus a few different curves for the Persson TCI with different values of $\\alpha$. For the Persson TCI we plot $1/(i+1)^\\alpha$ where $i$ is the index of the spectral coefficient. Larger values of $\\alpha$ ultimately make the Persson TCI permit larger oscillations in the DG solution before switching to FD."
   ]
  },
  {
   "cell_type": "code",
   "execution_count": null,
   "id": "b0048ec5-c922-4806-8755-5fa6c5c7cfb4",
   "metadata": {},
   "outputs": [],
   "source": [
    "n = np.arange(1, dg_mesh.extents(0)+1)\n",
    "for i in range(3, 6):\n",
    "    plt.semilogy(n, 1/n**i, '--', label=f\"$1 / (i+1)^{i}$\")\n",
    "# We call sin and step_function on DataVectors as member functions.\n",
    "# You can also do DataVector.sin(dg_logical_coords.get(0))\n",
    "#\n",
    "# The power_monitors function https://spectre-code.org/group__SpectralGroup.html#gacf0041727af6a4a03fa05f0a5850cead\n",
    "# is used to compute the spectral coefficients.\n",
    "plt.semilogy(n, power_monitors(dg_logical_coords.get(0).sin(), dg_mesh)[0], marker='o', linestyle='',\n",
    "            label=\"$\\sin(x)$\")\n",
    "plt.semilogy(n, power_monitors(dg_logical_coords.get(0).sin()**2, dg_mesh)[0], marker='o', linestyle='',\n",
    "            label=\"$\\sin(x)^2$\")\n",
    "plt.semilogy(n, power_monitors(dg_logical_coords.get(0).step_function(), dg_mesh)[0], marker='o', linestyle='',\n",
    "            label=\"$\\Theta(x)$\")\n",
    "plt.ylabel(\"Power $|c_i|$\")\n",
    "plt.xlabel(\"Spectral coefficient index $i$\")\n",
    "plt.legend()\n",
    "plt.show()"
   ]
  },
  {
   "cell_type": "markdown",
   "id": "95e8631c-fde4-49b3-9d9a-f0273bd86280",
   "metadata": {},
   "source": [
    "Quiz: Why are there so many modes that are zero?\n",
    "\n",
    "There are several important things to note:\n",
    "1. The Heavidside step function $\\Theta(x)$ has spectral coefficients that don't decay. This is a typical feature of discontinuous solutions. This means that increasing the number of basis functions does not decrease the numerical error, since for spectral methods the coefficients should decay exponentially.\n",
    "2. The spectral coefficients for the $\\sin(x)$ and $\\sin(x)^2$ solutions decay exponentially towards machine precision, $10^{-16}$. This indicates the solution is smooth and can be accurately represented by a spectral method.\n",
    "3. Increasing $\\alpha$ moves the dashed lines that demonstrate the Persson TCI sensitivity downward. Essentially, a solution is considered admissible or okay if it's highest spectral coefficient (or the highest several) are below the dashed line.\n",
    "4. Given the previous definition of a solution being admissible, we can see that even a sine wave, which is smooth, can be determined to be inadmissible if we use too few grid points. This is because we care about whether or not the feature is resolved on the grid, not whether or not the solution is in theory smooth. That is, anything that is underresolved effectively appears as a discontinuity ond so cannot be accurately represented using a spectral method like DG.\n",
    "5. We have a lot of modes that are $0$. This is because the solution is (anti)symmetric about $x=0$. In a realistic simulation this would not be the case.\n",
    "\n",
    "Let's now plot the three functions to get some idea of what they look like on our grid."
   ]
  },
  {
   "cell_type": "code",
   "execution_count": null,
   "id": "1a7ff4e2-15b5-4c80-bf2a-dfd15cc6f3b7",
   "metadata": {},
   "outputs": [],
   "source": [
    "plt.plot(dg_logical_coords.get(0), dg_logical_coords.get(0).sin(), marker='o', linestyle='',\n",
    "            label=\"$\\sin(x)$\")\n",
    "plt.plot(dg_logical_coords.get(0), dg_logical_coords.get(0).sin()**2, marker='o', linestyle='',\n",
    "            label=\"$\\sin(x)^2$\")\n",
    "plt.plot(dg_logical_coords.get(0), dg_logical_coords.get(0).step_function(), marker='o', linestyle='',\n",
    "            label=\"$\\Theta(x)$\")\n",
    "plt.legend()\n",
    "plt.show()"
   ]
  },
  {
   "cell_type": "markdown",
   "id": "46606584-07f7-4900-b930-9d531c4fd6f1",
   "metadata": {},
   "source": [
    "As a final example, let's run the Persson TCI on the above functions."
   ]
  },
  {
   "cell_type": "code",
   "execution_count": null,
   "id": "db53329f-623a-47c3-9ba3-b3c74858aca8",
   "metadata": {},
   "outputs": [],
   "source": [
    "print(\"sin(x)^2 is troubled:\", scl.persson_tci(Scalar[DataVector](dg_logical_coords.get(0).sin()**2), dg_mesh, 4.0, 1))\n",
    "print(\"Theta(x) is troubled:\", scl.persson_tci(Scalar[DataVector](dg_logical_coords.get(0).step_function()), dg_mesh, 4.0, 1))"
   ]
  },
  {
   "cell_type": "markdown",
   "id": "32e63105-326b-411a-9c60-53142883611c",
   "metadata": {},
   "source": [
    "Now let's try running the TCI on a lower resolution grid, say 5 points."
   ]
  },
  {
   "cell_type": "code",
   "execution_count": null,
   "id": "babcf896-2901-4412-8786-5c842816ec7f",
   "metadata": {},
   "outputs": [],
   "source": [
    "print(\"sin(x)^2 is troubled:\", scl.persson_tci(Scalar[DataVector](logical_coordinates(\n",
    "    Mesh[1](5, Basis.Legendre, Quadrature.GaussLobatto)).get(0).sin()**2),\n",
    "                                              Mesh[1](5, Basis.Legendre, Quadrature.GaussLobatto), 4.0, 1))"
   ]
  },
  {
   "cell_type": "markdown",
   "id": "6c06a2cc-5660-4efc-a284-dff3f81d7dac",
   "metadata": {},
   "source": [
    "We now see that the solution is found to be troubled by the Persson TCI. This shows we will switch to FD on solutions that are not resolved by the DG scheme and therefore effectively look discontinuous or non-smooth."
   ]
  },
  {
   "cell_type": "markdown",
   "id": "cce4a278-f1d0-477d-915a-61024504438d",
   "metadata": {},
   "source": [
    "### 3. Switching between DG and FD\n",
    "\n",
    "Once we've determined that a DG solution is bad we undo the last time (or substep with Runge-Kutta methods) that we took. We then need to take the solution on the DG grid and interpolate it to the FD grid. One important aspect is that the projection operation is conservative. This can be guaranteed by using an $L_2$ projection, which minimizes the integral\n",
    "$$\n",
    "  \\int_{-1}^{1}\\left(u-\\underline{u}\\right)^2\\,dx =\n",
    "$$\n",
    "with respect to $\\underline{u}$, where $\\underline{u}$ is the solution on the FD subcells. In practice we find that projection is equivalent to interpolation in this context and so straightforward spectral interpolation should be used.\n",
    "\n",
    "First, let's project the DG logical coordinates to the FD grid, then subtract the FD logical coordinates from it. If they are the same the result will be around machine precision."
   ]
  },
  {
   "cell_type": "code",
   "execution_count": null,
   "id": "de3e9bdb-029b-45ba-8ef7-408ad85f5ee2",
   "metadata": {},
   "outputs": [],
   "source": [
    "diff_coords = DataVector(scl.project(dg_logical_coords.get(0), dg_mesh, Index[1](fd_mesh.extents())) - fd_logical_coords.get(0))\n",
    "max_diff_coords = diff_coords.abs().max()\n",
    "print(max_diff_coords)"
   ]
  },
  {
   "cell_type": "markdown",
   "id": "7a785cb6-d2d8-4a01-8baa-8b742f7e435c",
   "metadata": {},
   "source": [
    "We see that the maximum difference between the projected DG coordinates and the FD logical coordinates is $\\mathcal{O}(10^{-16})$, so they agree.\n",
    "\n",
    "Next let's project the sinusoidal solutions to the FD grid and plot them."
   ]
  },
  {
   "cell_type": "code",
   "execution_count": null,
   "id": "dc5faea0-6b1e-4116-8327-050601bf07b8",
   "metadata": {},
   "outputs": [],
   "source": [
    "fd_sin = scl.project(dg_logical_coords.get(0).sin(), dg_mesh, Index[1](fd_mesh.extents()))\n",
    "fd_sin2 = scl.project(dg_logical_coords.get(0).sin()**2, dg_mesh, Index[1](fd_mesh.extents()))\n",
    "plt.plot(fd_logical_coords.get(0), fd_sin, marker='o', linestyle='', label=\"$\\sin(x)$\")\n",
    "plt.plot(fd_logical_coords.get(0), fd_sin2, marker='o', linestyle='', label=\"$\\sin(x)^2$\")\n",
    "plt.legend()\n",
    "plt.show()"
   ]
  },
  {
   "cell_type": "markdown",
   "id": "4dac9a4f-bc62-4af6-bf29-a016a8caf19e",
   "metadata": {},
   "source": [
    "We can see that the both $\\sin(x)$ and the $\\sin(x)^2$ projected solutions look reasonable. Let's quantify this by plotting the difference between the projected and computed solutions on the FD grid."
   ]
  },
  {
   "cell_type": "code",
   "execution_count": null,
   "id": "9c9dc8a3-9b1e-4019-a962-73f2d3a239e5",
   "metadata": {},
   "outputs": [],
   "source": [
    "plt.plot(fd_logical_coords.get(0), fd_sin-fd_logical_coords.get(0).sin(), marker='o', linestyle='', label=\"$\\mathcal{E}(\\sin(x))$\")\n",
    "plt.plot(fd_logical_coords.get(0), fd_sin2-fd_logical_coords.get(0).sin()**2, marker='o', linestyle='', label=\"$\\mathcal{E}(\\sin(x)^2)$\")\n",
    "plt.legend()\n",
    "plt.show()"
   ]
  },
  {
   "cell_type": "markdown",
   "id": "983a1486-790c-4dd0-975b-a1632386bca2",
   "metadata": {},
   "source": [
    "We see that the projected solution agrees with the analytical one to machine, demonstrating that the projection routines are correct.\n",
    "\n",
    "Now let's project the step function solution and plot that."
   ]
  },
  {
   "cell_type": "code",
   "execution_count": null,
   "id": "4943fbb2-c6a8-478f-b3ba-c048cb75a700",
   "metadata": {},
   "outputs": [],
   "source": [
    "fd_step = scl.project(dg_logical_coords.get(0).step_function(), dg_mesh, Index[1](fd_mesh.extents()))\n",
    "plt.plot(fd_logical_coords.get(0), fd_step, marker='o', linestyle='', label=\"$\\Theta(x)$\")\n",
    "plt.legend()\n",
    "plt.show()"
   ]
  },
  {
   "cell_type": "markdown",
   "id": "8a5dceb4-918e-466f-9840-d7cc184cfc46",
   "metadata": {},
   "source": [
    "What we observe is an unphysical ringing in the solution known as Gibbs phenomenon. This shows that the DG solution doesn't represent step functions accurately. Looking back at the plot of the spectral modes, this is also visible from the spectral modes not decaying exponentially. The higher modes are very oscillatory and so should be small corrections to the solutions. Since they aren't here, we see very poor interpolation. What this tells us is that we need to interpolate to the FD grid **before** any discontinuities enter our DG element.\n",
    "\n",
    "Now that we've looked at switching from DG to FD, we can do the inverse. Specifically, we want the property that the restriction operator $\\mathcal{R}$ from FD to DG is the inverse of the projection operator $\\mathcal{P}$. That is, $\\mathcal{R}(\\mathcal{P})=\\mathcal{I}$ where $\\mathcal{I}$ is the identity. Ultimately this is achieved by having $\\mathcal{R}$ be the pseudo-inverse of $\\mathcal{P}$ computed from a constrained linear least squares problem where the constraint is that the integral over the FD grid and DG grid are the same. Deriving the $\\mathcal{R}$ operator/matrix is quite involved(https://arxiv.org/abs/2109.11645). As a first test of how well our restriction operator works, let's restrict the step function solution back to the DG grid and plot it."
   ]
  },
  {
   "cell_type": "code",
   "execution_count": null,
   "id": "cda3cc89-7e29-459a-ad38-ef2f93d4d958",
   "metadata": {},
   "outputs": [],
   "source": [
    "dg_step = scl.reconstruct(fd_step, dg_mesh, Index[1](fd_mesh.extents()), scl.FdReconstructionMethod.DimByDim)\n",
    "plt.plot(dg_logical_coords.get(0), dg_step, marker='o', linestyle='', label=\"$\\Theta(x)$\")\n",
    "plt.legend()\n",
    "plt.show()\n",
    "\n",
    "plt.plot(dg_logical_coords.get(0), dg_step - dg_logical_coords.get(0).step_function(),\n",
    "         marker='o', linestyle='', label=\"$\\mathcal{E}(\\Theta(x))$\")\n",
    "plt.legend()\n",
    "plt.show()"
   ]
  },
  {
   "cell_type": "markdown",
   "id": "41150d52-48b1-4800-8cb3-f06713ebdf4e",
   "metadata": {},
   "source": [
    "While there are some numerical errors at the boundaries, they are extremely small. This is quite impressive considering we are working with a discontinuous solution. Next let's look at the two $\\sin$ solutions."
   ]
  },
  {
   "cell_type": "code",
   "execution_count": null,
   "id": "5d30542d-fa29-4788-a4ec-4c983302f60d",
   "metadata": {},
   "outputs": [],
   "source": [
    "dg_sin = scl.reconstruct(fd_sin, dg_mesh, Index[1](fd_mesh.extents()), scl.FdReconstructionMethod.DimByDim)\n",
    "dg_sin2 = scl.reconstruct(fd_sin2, dg_mesh, Index[1](fd_mesh.extents()), scl.FdReconstructionMethod.DimByDim)\n",
    "plt.plot(dg_logical_coords.get(0), dg_sin, marker='o', linestyle='', label=\"$\\sin(x)$\")\n",
    "plt.plot(dg_logical_coords.get(0), dg_sin2, marker='o', linestyle='', label=\"$\\sin(x)^2$\")\n",
    "plt.legend()\n",
    "plt.show()\n",
    "\n",
    "plt.plot(dg_logical_coords.get(0), dg_sin - dg_logical_coords.get(0).sin(),\n",
    "         marker='o', linestyle='', label=\"$\\mathcal{E}(\\sin(x))$\")\n",
    "plt.plot(dg_logical_coords.get(0), dg_sin2 - dg_logical_coords.get(0).sin()**2,\n",
    "         marker='o', linestyle='', label=\"$\\mathcal{E}(\\sin(x)^2)$\")\n",
    "plt.legend()\n",
    "plt.show()"
   ]
  },
  {
   "cell_type": "markdown",
   "id": "b5927d86-0da6-4970-b024-0945a2b2a271",
   "metadata": {},
   "source": [
    "Again we see quite good agreement, though not perfect, between the two solutions. The reason the agreement isn't perfect is because SpECTRE currently always uses sixth-order integration weights on the FD grid. Changing the DG mesh for 20 to 6 gives machine-precision accuracy in the restriction. Let's verify this."
   ]
  },
  {
   "cell_type": "code",
   "execution_count": null,
   "id": "827f331b-2bba-4efd-aa9b-a6c82d46270c",
   "metadata": {},
   "outputs": [],
   "source": [
    "dg_mesh6 = Mesh[1](6, Basis.Legendre, Quadrature.GaussLobatto)\n",
    "dg_logical_coords6 = logical_coordinates(dg_mesh6)\n",
    "fd_mesh6 = scl.mesh(dg_mesh6)\n",
    "fd_logical_coords6 = logical_coordinates(fd_mesh6)\n",
    "fd_step6 = scl.project(dg_logical_coords6.get(0).step_function(), dg_mesh6, Index[1](fd_mesh6.extents()))\n",
    "dg_step6 = scl.reconstruct(fd_step6, dg_mesh6, Index[1](fd_mesh6.extents()), scl.FdReconstructionMethod.DimByDim)\n",
    "\n",
    "\n",
    "plt.plot(dg_logical_coords6.get(0), dg_step6 - dg_logical_coords6.get(0).step_function(),\n",
    "         marker='o', linestyle='', label=\"$\\mathcal{E}(\\Theta(x))$\")\n",
    "plt.plot(dg_logical_coords6.get(0), scl.reconstruct(scl.project(dg_logical_coords6.get(0).sin(),\n",
    "                                                               dg_mesh6, Index[1](fd_mesh6.extents())),\n",
    "                                                   dg_mesh6, Index[1](fd_mesh6.extents()),\n",
    "                                                   scl.FdReconstructionMethod.DimByDim) - dg_logical_coords6.get(0).sin(),\n",
    "         marker='o', linestyle='', label=\"$\\mathcal{E}(\\sin(x))$\")\n",
    "plt.plot(dg_logical_coords6.get(0), scl.reconstruct(scl.project(dg_logical_coords6.get(0).sin()**2,\n",
    "                                                               dg_mesh6, Index[1](fd_mesh6.extents())),\n",
    "                                                   dg_mesh6, Index[1](fd_mesh6.extents()),\n",
    "                                                   scl.FdReconstructionMethod.DimByDim) - dg_logical_coords6.get(0).sin()**2,\n",
    "         marker='o', linestyle='', label=\"$\\mathcal{E}(\\sin(x)^2)$\")\n",
    "plt.legend()\n",
    "plt.show()"
   ]
  },
  {
   "cell_type": "markdown",
   "id": "8a8f6ffe-0c2a-4e39-bbc3-c35a6f9358b2",
   "metadata": {},
   "source": [
    "With this background, we are now ready to try running some simulations."
   ]
  },
  {
   "cell_type": "markdown",
   "id": "8c5c83aa-c2bc-4dfa-87af-f189210a6365",
   "metadata": {},
   "source": [
    "### 4. Running Burgers simulations with DG-FD\n",
    "\n",
    "To provide a real-world example we will run two different Burgers simulations using the DG-FD hybrid method.\n",
    "\n",
    "The first simulation we will run is the Step solution to Burgers equation. In this case a step function is advected from the left to the right. The documentation for the analytic solution class is https://spectre-code.org/classBurgers_1_1Solutions_1_1Step.html"
   ]
  },
  {
   "cell_type": "code",
   "execution_count": null,
   "id": "36b2c126-88f5-41dc-8167-666c302d72b4",
   "metadata": {},
   "outputs": [],
   "source": [
    "! rm -f BurgersStep*h5\n",
    "! $spectre_bin_path/EvolveBurgers --input-file=$notebook_path/Step.yaml"
   ]
  },
  {
   "cell_type": "code",
   "execution_count": null,
   "id": "5aa8f459-677b-411b-b15b-89a2aa312596",
   "metadata": {},
   "outputs": [],
   "source": [
    "burgers_step_file = h5.H5File(\"BurgersStepVolume0.h5\", \"r\")\n",
    "burgers_step_vol = burgers_step_file.get_vol(\"VolumeData.vol\")\n",
    "burgers_step_obs_ids = burgers_step_vol.list_observation_ids()\n",
    "step_coords = [np.asarray(burgers_step_vol.get_tensor_component(burgers_step_obs_ids[obs_int], \"InertialCoordinates_x\").data).copy()\n",
    "                  for obs_int in range(len(burgers_step_obs_ids))]\n",
    "step_u = [np.asarray(burgers_step_vol.get_tensor_component(burgers_step_obs_ids[obs_int], \"U\").data).copy()\n",
    "                  for obs_int in range(len(burgers_step_obs_ids))]\n",
    "step_times = [burgers_step_vol.get_observation_value(burgers_step_obs_ids[obs_int])\n",
    "              for obs_int in range(len(burgers_step_obs_ids))]\n",
    "def plot_step_at(obs_int):\n",
    "    plt.cla()\n",
    "    plt.plot(step_coords[obs_int], step_u[obs_int], marker='o', linestyle='')\n",
    "    plt.title(f\"Time {step_times[obs_int]:1.2f}\")"
   ]
  },
  {
   "cell_type": "code",
   "execution_count": null,
   "id": "cc01ebc0-d702-4562-83a9-c12f527925ad",
   "metadata": {},
   "outputs": [],
   "source": [
    "fig, ax = plt.subplots()\n",
    "matplotlib.animation.FuncAnimation(fig, plot_step_at, frames=len(step_u))"
   ]
  },
  {
   "cell_type": "markdown",
   "id": "f6dd550c-6fd9-4f57-afdf-316d86907ee6",
   "metadata": {},
   "source": [
    "Drag the slider or hit the Play button to watch the step solution propagate from the left to the right. You'll notice that as the discontinuity enters an element, the grid point spacing changes. This is the code switching from DG to FD. Similarly, as the discontinuity leaves an element the code switches from FD back to DG.\n",
    "\n",
    "Next let's run a simulation of a periodic sinusoid solution that starts smooth and steepens over time to form a sawtooth wave. The documentation for the analytic solution class is https://spectre-code.org/classBurgers_1_1AnalyticData_1_1Sinusoid.html\n",
    "\n"
   ]
  },
  {
   "cell_type": "code",
   "execution_count": null,
   "id": "5a67d9bc-5b20-46fe-9a8a-a187e1e6b991",
   "metadata": {},
   "outputs": [],
   "source": [
    "! rm -f BurgersSinusoid*h5\n",
    "! $spectre_bin_path/EvolveBurgers --input-file=$notebook_path/Sinusoid.yaml"
   ]
  },
  {
   "cell_type": "code",
   "execution_count": null,
   "id": "b4636837-881e-4791-9bed-f21eb74fccd1",
   "metadata": {},
   "outputs": [],
   "source": [
    "burgers_sinusoid_file = h5.H5File(\"BurgersSinusoidVolume0.h5\", \"r\")\n",
    "burgers_sinusoid_vol = burgers_sinusoid_file.get_vol(\"VolumeData.vol\")\n",
    "burgers_sinusoid_obs_ids = burgers_sinusoid_vol.list_observation_ids()\n",
    "sinusoid_coords = [np.asarray(burgers_sinusoid_vol.get_tensor_component(burgers_sinusoid_obs_ids[obs_int],\n",
    "                                                                        \"InertialCoordinates_x\").data).copy()\n",
    "                  for obs_int in range(len(burgers_sinusoid_obs_ids))]\n",
    "sinusoid_u = [np.asarray(burgers_sinusoid_vol.get_tensor_component(burgers_sinusoid_obs_ids[obs_int],\n",
    "                                                                   \"U\").data).copy()\n",
    "                  for obs_int in range(len(burgers_sinusoid_obs_ids))]\n",
    "sinusoid_times = [burgers_sinusoid_vol.get_observation_value(burgers_sinusoid_obs_ids[obs_int])\n",
    "              for obs_int in range(len(burgers_sinusoid_obs_ids))]\n",
    "def plot_sinusoid_at(obs_int):\n",
    "    plt.cla()\n",
    "    plt.plot(sinusoid_coords[obs_int], sinusoid_u[obs_int], marker='o', linestyle='')\n",
    "    plt.title(f\"Time {sinusoid_times[obs_int]:1.2f}\")"
   ]
  },
  {
   "cell_type": "code",
   "execution_count": null,
   "id": "477f858c-3c09-4a94-a9c9-f755a07f7b85",
   "metadata": {},
   "outputs": [],
   "source": [
    "fig, ax = plt.subplots()\n",
    "matplotlib.animation.FuncAnimation(fig, plot_sinusoid_at, frames=len(sinusoid_u))"
   ]
  },
  {
   "cell_type": "markdown",
   "id": "98a38cac-5fa4-4583-bc94-ffcd9a906f4a",
   "metadata": {},
   "source": [
    "We see that the solution starts as a smooth sinusoid and reaches a sawtooth shape at $t\\sim1.8$. The solution then continues to steepen and decrease in amplitude until the final time of $t=3$. As the profile steepens the code switches from DG to FD at the center of the domain ($x=\\pi$) and remains in that configuration throughout."
   ]
  },
  {
   "cell_type": "markdown",
   "id": "0a2ab856-3356-46d8-bcd9-9c0b330d0896",
   "metadata": {},
   "source": [
    "### 5. Running Newtonian hydrodynamics simulations with DG-FD\n",
    "\n",
    "Now that we've looked at the Burgers system, let's look at a more physical example, Newtonian hydrodynamics. We will restrict ourselves to 1d to keep things quick to run and easy to visualize.  The Newtonian hydro equations are\n",
    "$$\n",
    "  \\frac{\\partial}{\\partial t}\n",
    "  \\begin{pmatrix}\n",
    "    \\rho \\\\\n",
    "    \\rho v^i \\\\\n",
    "    \\rho E\n",
    "  \\end{pmatrix}\n",
    "  + \\partial_j\n",
    "  \\begin{pmatrix}\n",
    "    \\rho v^j \\\\\n",
    "    \\rho v^i v^j + p\\delta^{ij} \\\\\n",
    "    v^j(\\rho E + p)\n",
    "  \\end{pmatrix}\n",
    "  = 0,\n",
    "$$\n",
    "where\n",
    "$$\n",
    "p=(\\gamma-1)\\left(\\rho E - \\frac{1}{2}v^i v_i\\right),\n",
    "$$\n",
    "and $v_i=\\delta_{ij}v^j$. Our troubled cell indicator monitors both the density $\\rho$ and the pressure $p$ since at contact discontinuities the pressure is continuous but the density is not. Monitoring the spatial velocity $v^i$ is more challenging since the velocity can reasonably be $0$.\n",
    "\n",
    "The first test problem we will look at is called the Sod shock tube. This is a standard test problem in Newtonian hydrodynamics where a rarefaction waves travels leftward while a shock and contact discontiunity travel to the right. Below we plot the density as blue dots and the pressure as orange triangles. While this is not a particularly challenging test problem, it nicely shows the hybrid method switching between DG and FD. In this case we use the HLL (Harten-Lax-van Leer) approximate Riemann solver, which is commonly used in numerical relativity applications."
   ]
  },
  {
   "cell_type": "code",
   "execution_count": null,
   "id": "fabe761c-b5fd-4041-9409-2ac7cc0316cd",
   "metadata": {},
   "outputs": [],
   "source": [
    "! rm -f NewtonianEulerSodVolume0.h5\n",
    "! $spectre_bin_path/EvolveNewtonianEuler1D --input-file=$notebook_path/Sod.yaml"
   ]
  },
  {
   "cell_type": "code",
   "execution_count": null,
   "id": "572d0922-629f-4cfa-b845-b3636fa63456",
   "metadata": {},
   "outputs": [],
   "source": [
    "ne_sod_file = h5.H5File(\"NewtonianEulerSodVolume0.h5\", \"r\")\n",
    "ne_sod_vol = ne_sod_file.get_vol(\"VolumeData.vol\")\n",
    "ne_sod_obs_ids = ne_sod_vol.list_observation_ids()\n",
    "ne_sod_coords = [np.asarray(ne_sod_vol.get_tensor_component(ne_sod_obs_ids[obs_int],\n",
    "                                                            \"InertialCoordinates_x\").data).copy()\n",
    "                   for obs_int in range(len(ne_sod_obs_ids))]\n",
    "ne_sod_rho = [np.asarray(ne_sod_vol.get_tensor_component(ne_sod_obs_ids[obs_int],\n",
    "                                                          \"RestMassDensity\").data).copy()\n",
    "                   for obs_int in range(len(ne_sod_obs_ids))]\n",
    "ne_sod_p = [np.asarray(ne_sod_vol.get_tensor_component(ne_sod_obs_ids[obs_int],\n",
    "                                                          \"Pressure\").data).copy()\n",
    "                   for obs_int in range(len(ne_sod_obs_ids))]\n",
    "ne_sod_times = [ne_sod_vol.get_observation_value(ne_sod_obs_ids[obs_int])\n",
    "               for obs_int in range(len(ne_sod_obs_ids))]\n",
    "def plot_ne_sod_at(obs_int):\n",
    "    plt.cla()\n",
    "    plt.plot(ne_sod_coords[obs_int], ne_sod_rho[obs_int], marker='o', linestyle='', label=\"$\\rho$\")\n",
    "    plt.plot(ne_sod_coords[obs_int], ne_sod_p[obs_int], marker='^', linestyle='', label=\"$p$\")\n",
    "    plt.title(f\"Time {ne_sod_times[obs_int]:1.2f}\")\n"
   ]
  },
  {
   "cell_type": "code",
   "execution_count": null,
   "id": "ccfefcb1-5f51-4c54-975c-45b91e7788a5",
   "metadata": {},
   "outputs": [],
   "source": [
    "fig, ax = plt.subplots()\n",
    "matplotlib.animation.FuncAnimation(fig, plot_ne_sod_at, frames=len(ne_sod_rho))"
   ]
  },
  {
   "cell_type": "markdown",
   "id": "78cfd61b-ee93-4ef0-8a7c-bcf17ef23168",
   "metadata": {},
   "source": [
    "A slightly more challenging test problem is the Lax shock tube. This is very similar to the Sod shocktube except that the shock and contact discontinuity are more difficult to model.  Below we plot the density as blue dots and the pressure as orange triangles.  In this case we use the HLLC (Harten-Lax-van Leer+Contact) approximate Riemann solver."
   ]
  },
  {
   "cell_type": "code",
   "execution_count": null,
   "id": "e8efc8fe-aa92-441a-b761-9d1a966a8f93",
   "metadata": {},
   "outputs": [],
   "source": [
    "! rm -f NewtonianEulerLaxVolume0.h5\n",
    "! $spectre_bin_path/EvolveNewtonianEuler1D --input-file=$notebook_path/Lax.yaml"
   ]
  },
  {
   "cell_type": "code",
   "execution_count": null,
   "id": "aef72608-6fe5-41f0-acd7-ea074ef8e790",
   "metadata": {},
   "outputs": [],
   "source": [
    "ne_lax_file = h5.H5File(\"NewtonianEulerLaxVolume0.h5\", \"r\")\n",
    "ne_lax_vol = ne_lax_file.get_vol(\"VolumeData.vol\")\n",
    "ne_lax_obs_ids = ne_lax_vol.list_observation_ids()\n",
    "ne_lax_coords = [np.asarray(ne_lax_vol.get_tensor_component(ne_lax_obs_ids[obs_int],\n",
    "                                                            \"InertialCoordinates_x\").data).copy()\n",
    "                   for obs_int in range(len(ne_lax_obs_ids))]\n",
    "ne_lax_rho = [np.asarray(ne_lax_vol.get_tensor_component(ne_lax_obs_ids[obs_int],\n",
    "                                                          \"RestMassDensity\").data).copy()\n",
    "                   for obs_int in range(len(ne_lax_obs_ids))]\n",
    "ne_lax_p = [np.asarray(ne_lax_vol.get_tensor_component(ne_lax_obs_ids[obs_int],\n",
    "                                                          \"Pressure\").data).copy()\n",
    "                   for obs_int in range(len(ne_lax_obs_ids))]\n",
    "ne_lax_times = [ne_lax_vol.get_observation_value(ne_lax_obs_ids[obs_int])\n",
    "               for obs_int in range(len(ne_lax_obs_ids))]\n",
    "def plot_ne_lax_at(obs_int):\n",
    "    plt.cla()\n",
    "    plt.plot(ne_lax_coords[obs_int], ne_lax_rho[obs_int], marker='o', linestyle='', label=\"$\\rho$\")\n",
    "    plt.plot(ne_lax_coords[obs_int], ne_lax_p[obs_int], marker='^', linestyle='', label=\"$p$\")\n",
    "    plt.title(f\"Time {ne_lax_times[obs_int]:1.2f}\")\n"
   ]
  },
  {
   "cell_type": "code",
   "execution_count": null,
   "id": "dcd85c46-1911-4145-b988-19763bbaa539",
   "metadata": {},
   "outputs": [],
   "source": [
    "fig, ax = plt.subplots()\n",
    "matplotlib.animation.FuncAnimation(fig, plot_ne_lax_at, frames=len(ne_lax_rho))"
   ]
  },
  {
   "cell_type": "code",
   "execution_count": null,
   "id": "df335bfb-82b7-4cce-a87b-24c3ba5bd797",
   "metadata": {},
   "outputs": [],
   "source": []
  }
 ],
 "metadata": {
  "kernelspec": {
   "display_name": "Python 3 (ipykernel)",
   "language": "python",
   "name": "python3"
  },
  "language_info": {
   "codemirror_mode": {
    "name": "ipython",
    "version": 3
   },
   "file_extension": ".py",
   "mimetype": "text/x-python",
   "name": "python",
   "nbconvert_exporter": "python",
   "pygments_lexer": "ipython3",
   "version": "3.9.16"
  }
 },
 "nbformat": 4,
 "nbformat_minor": 5
}
