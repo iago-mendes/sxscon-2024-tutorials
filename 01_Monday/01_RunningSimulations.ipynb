{
 "cells": [
  {
   "cell_type": "markdown",
   "metadata": {},
   "source": [
    "# Starting a binary black hole simulation\n",
    "\n",
    "One of the systems that we are simulating with SpECTRE are binary black hole\n",
    "(BBH) mergers and their gravitational waves at very high accuracy. In this\n",
    "tutorial we will start a BBH simulation with SpECTRE and monitor its output."
   ]
  },
  {
   "cell_type": "markdown",
   "metadata": {},
   "source": [
    "First, make sure that you have compiled all the executables you need for running\n",
    "BBH simulations. It's better to do this on a compute node.\n",
    "\n",
    "> Note that some bash commands in the tutorials will be in cells that you can execute directly. However, some bash commands will require input from the user (aka you), and those cannot be run in a cell. For these, open a terminal elsewhere and run there (either here in the Jupyter server, VSCode terminal, or new ssh connection).\n",
    "\n",
    "```sh\n",
    "# Get a compute node\n",
    "interact -f cascade -n 8 -m 40g -t 01:00:00\n",
    "# Compile the code\n",
    "cd $SPECTRE_BUILD\n",
    "make -j8 cli bbh\n",
    "```\n",
    "\n",
    "This will compile:\n",
    "\n",
    "- The command-line interface (CLI)\n",
    "- SolveXcts (initial data)\n",
    "- EvolveGhBinaryBlackHole (inspiral)\n",
    "- EvolveGhSingleBlackHole (ringdown)"
   ]
  },
  {
   "cell_type": "markdown",
   "metadata": {},
   "source": [
    "We will use the SpECTRE command-line interface (CLI) in this session. You have\n",
    "learned how to access the CLI in the technology check session. Try it now by\n",
    "exploring the `spectre bbh` subcommand of the CLI. You can run the commands in\n",
    "this notebook or in your terminal:"
   ]
  },
  {
   "cell_type": "code",
   "execution_count": 1,
   "metadata": {},
   "outputs": [
    {
     "name": "stdout",
     "output_type": "stream",
     "text": [
      "Usage: spectre bbh [OPTIONS] COMMAND [ARGS]...\n",
      "\n",
      "  Pipeline for binary black hole simulations.\n",
      "\n",
      "Options:\n",
      "  -h, --help  Show this message and exit.\n",
      "\n",
      "Commands:\n",
      "  find-horizon    Find an apparent horizon in volume data.\n",
      "  generate-id     Generate initial data for a BBH simulation.\n",
      "  postprocess-id  Postprocess initial data after generation.\n",
      "  start-inspiral  Schedule an inspiral simulation from initial data.\n",
      "  start-ringdown  Schedule a ringdown simulation from the inspiral.\n"
     ]
    }
   ],
   "source": [
    "%%bash\n",
    "spectre bbh --help"
   ]
  },
  {
   "cell_type": "markdown",
   "metadata": {},
   "source": [
    "These subcommands are part of the BBH pipeline, which you can use to start and\n",
    "control BBH simulations. Steps in the BBH pipeline are, for example,\n",
    "\n",
    "- Generating the initial data\n",
    "- Running the inspiral simulation\n",
    "- Running the ringdown simulation\n",
    "- Extracting waveforms\n",
    "\n",
    "> **Warning:** The BBH pipeline is still experimental and under active\n",
    "> development. If you find any issues, let a core developer know.\n",
    "\n",
    "All CLI commands are also available in Python, so everything you do with the CLI\n",
    "you can also do in Python scripts. We will use Python to work with BBH data in\n",
    "the next session."
   ]
  },
  {
   "cell_type": "markdown",
   "metadata": {},
   "source": [
    "## Generate initial data\n",
    "\n",
    "Using the pipeline, you can generate initial data to start your BBH simulation\n",
    "like this:\n",
    "\n",
    "```sh\n",
    "spectre bbh generate-id -q 1 --chi-A 0 0 0 --chi-B 0 0 0 -D 16 -w 0.015 -a 0 \\\n",
    "  --no-control -d ./runs/01_bbh\n",
    "```"
   ]
  },
  {
   "cell_type": "markdown",
   "metadata": {},
   "source": [
    "That's it! Now your job is scheduled on the cluster. Once the job runs, it will\n",
    "generate initial data with the parameter you have specified. To get initial data\n",
    "quickly we have disabled the control loop that drives the horizon masses and\n",
    "spins to your specified parameters with `--no-control`. We could also add\n",
    "`--evolve` to start the evolution of the initial data right after generation.\n",
    "However, we'll start the inspiral in a separate command below to control the\n",
    "parameters.\n",
    "\n",
    "The initial data will be generated in the _pipeline directory_ (`-d`) that we\n",
    "set to `./runs/01_bbh` in the command above. You will find a directory named\n",
    "`001_InitialData` in the pipeline directory. The next step in the pipeline will\n",
    "create `002_Inspiral`. If you're running just a single step of the pipeline, you\n",
    "can also specify the output directory directly with `-o` (`-d` and `-o` are\n",
    "mututally exclusive).\n",
    "\n",
    "Of course you can change parameters such as the mass-ratio $q$, the black hole\n",
    "spins $\\mathbf{\\chi}_A$ and $\\mathbf{\\chi}_B$, and the initial orbital\n",
    "parameters:\n",
    "\n",
    "- Coordinate separation $D_0$ (`-D`)\n",
    "- Orbital angular velocity $\\Omega_0$ (`-w`)\n",
    "- Radial expansion velocity $\\dot{a}_0$ (`-a`)\n",
    "\n",
    "Alternatively, you can choose `--eccentricity=0` plus either `--num-orbits`, or\n",
    "`--time-to-merger`, or one of the above orbital parameters to define the orbit\n",
    "based on post-Newtonian estimates.\n",
    "\n",
    "> To learn more about initial data generation you will have to wait until\n",
    "> Friday.\n",
    "\n",
    "The initial data generation should take about 5 minutes to complete at this\n",
    "(fairly high) resolution on the 32 cores that we have available on Oscar.\n",
    "However, because HPC systems can sometimes be unpredictable with how long jobs\n",
    "will be in the queue, we've also run a full initial data solve already. You can\n",
    "find this data at:\n",
    "\n",
    "```\n",
    "/oscar/data/icerm/knelli/workshop_materials/01_monday/pipeline_tutorial/001_InitialData\n",
    "```\n",
    "\n",
    "If your own initial data job doesn't finish by the time you get here, just\n",
    "change the paths below to use this data."
   ]
  },
  {
   "cell_type": "code",
   "execution_count": 2,
   "metadata": {},
   "outputs": [
    {
     "name": "stdout",
     "output_type": "stream",
     "text": [
      "             JOBID PARTITION     NAME     USER ST       TIME  NODES NODELIST(REASON)\n",
      "           4045933       vnc sys/dash  ccvws98  R    2:46:40      1 node1828\n"
     ]
    }
   ],
   "source": [
    "%%bash\n",
    "# Check if your job has finished\n",
    "squeue -u $USER"
   ]
  },
  {
   "cell_type": "markdown",
   "metadata": {},
   "source": [
    "## Starting the inspiral\n",
    "\n",
    "The steps of the pipeline are connected, e.g. you can pass `--evolve` to\n",
    "`spectre bbh generate-id` to automatically start the inspiral right after\n",
    "initial data generation. However, you can also run each step in the pipeline on\n",
    "its own, e.g. to start the inspiral with different parameters or in another\n",
    "directory. Let's start the inspiral on just 1 node (with 32 cores), because\n",
    "that's what we have available on Oscar:\n",
    "\n",
    "```sh\n",
    "spectre bbh start-inspiral runs/01_bbh/001_InitialData/InitialData.yaml \\\n",
    "  -N 1 -d ./runs/01_bbh\n",
    "```"
   ]
  },
  {
   "cell_type": "markdown",
   "metadata": {},
   "source": [
    "> Note: If your ID job hasn't finished yet, use the following command which points to an already completed ID run.\n",
    "\n",
    "```sh\n",
    "spectre bbh start-inspiral /oscar/data/icerm/knelli/workshop_materials/01_monday/pipeline_tutorial/001_InitialData/InitialData.yaml \\\n",
    "  -N 1 -d ./runs/01_bbh\n",
    "```\n",
    "\n",
    "This will create `002_Inspiral` in your pipeline directory. In it, the first\n",
    "_segment_ of your BBH simulation will start. A segment is a chunk of a\n",
    "long-running simulation, which will terminate after some time (typically 1 day)\n",
    "and resubmit itself so we can run on supercomputers with time-limited queues."
   ]
  },
  {
   "cell_type": "markdown",
   "metadata": {},
   "source": [
    "Note that you can also start the inspiral from SpEC data (if you happen to have\n",
    "some):\n",
    "\n",
    "```sh\n",
    "spectre bbh start-inspiral /path/to/ID_Params.perl -O bbh_spec\n",
    "```\n",
    "\n",
    "While the BBH pipeline is still experimental, we recommend reviewing the\n",
    "generated input files for any errors."
   ]
  },
  {
   "cell_type": "markdown",
   "metadata": {},
   "source": [
    "## Monitoring your simulation\n",
    "\n",
    "Now you can monitor your simulation. Try running:"
   ]
  },
  {
   "cell_type": "code",
   "execution_count": null,
   "metadata": {
    "scrolled": true
   },
   "outputs": [],
   "source": [
    "%%bash\n",
    "# This just increases the column width so you can see everything in this\n",
    "# notebook. You don't need this line if you're running this in a terminal.\n",
    "export COLUMNS=150\n",
    "\n",
    "spectre status"
   ]
  },
  {
   "cell_type": "markdown",
   "metadata": {},
   "source": [
    "It will show you the state of your running simulations on this machine.\n",
    "\n",
    "> **Pro tip:** Try `spectre status -w 5` in a separate terminal to keep watch of\n",
    "> your simulations, updating every 5 seconds.\n",
    "\n",
    "You can also run a dashboard to give you a visual summary of your running\n",
    "simulations with lots of plots (this is still very experimental). Note that all\n",
    "of the info in the dashboard can also be plotted with the CLI or in Python. The\n",
    "dashboard just collects it all to give you an overview of your simulation. We'll\n",
    "take a look at some of the things that are plotted in the next hands-on session.\n",
    "\n",
    "```sh\n",
    "python-spectre -m streamlit run $SPECTRE_HOME/tools/Status/Dashboard.py\n",
    "```\n",
    "\n",
    "We have the dashboard running on Oscar, so if you're feeling adventorous you can\n",
    "forward port 8501 on Oscar's `vscode1` node and open the dashboard in your\n",
    "browser:\n",
    "\n",
    "- Dashboard URL: http://localhost:8501"
   ]
  },
  {
   "cell_type": "markdown",
   "metadata": {},
   "source": [
    "### Example: Plot trajectories\n",
    "\n",
    "You can use the spectre CLI to inspect the output data of the simulation while\n",
    "it is running. We will explore simulation data in detail in the next tutorial.\n",
    "For now, just try to plot the trajectories:\n",
    "\n",
    "```sh\n",
    "spectre plot trajectories runs/01_bbh/002_Inspiral/Segment_*/BbhReductions.h5 \\\n",
    "  -o trajectories.pdf\n",
    "```\n",
    "\n",
    "> Note: If you want to try this before your simulation has sufficiently\n",
    "> progressed to show anything interesting, you can look at the complete\n",
    "> simulation data in this directory:"
   ]
  },
  {
   "cell_type": "code",
   "execution_count": 6,
   "metadata": {},
   "outputs": [],
   "source": [
    "%%bash\n",
    "export BBH_DATA=/oscar/data/icerm/knelli/workshop_materials/01_monday/bbh_inspiral\n",
    "\n",
    "spectre plot trajectories $BBH_DATA/BbhReductions.h5 -o trajectories.pdf\n",
    "# pwd"
   ]
  },
  {
   "cell_type": "markdown",
   "metadata": {},
   "source": [
    "Open the image you generated and take a look!\n",
    "\n",
    "> **Pro tip:** You can also regularly regenerate plots like this to monitor your\n",
    "> simulation. Try `watch spectre plot trajectories ...`."
   ]
  },
  {
   "cell_type": "markdown",
   "metadata": {},
   "source": [
    "### Measuring Eccentricity\n",
    "\n",
    "We have basic support for measuring the orbital eccentricity and updating the\n",
    "initial orbital parameters to reduce the eccentricity. Work on automation and\n",
    "improvements of this procedure are ongoing, and mostly independent of the actual\n",
    "simulation code. You can do a quick estimate of the orbital eccentricity like\n",
    "this (we're using the sample data here because your simulation probably hasn't\n",
    "progressed far enough yet):"
   ]
  },
  {
   "cell_type": "code",
   "execution_count": 8,
   "metadata": {},
   "outputs": [
    {
     "name": "stdout",
     "output_type": "stream",
     "text": [
      "\u001b[2;36m[14:45:40]\u001b[0m\u001b[2;36m \u001b[0m\u001b[34mINFO    \u001b[0m Eccentricity control summary      \u001b]8;id=667385;file:///users/ccvws98/spectre/build/bin/python/spectre/Pipelines/EccentricityControl/EccentricityControl.py\u001b\\\u001b[2mEccentricityControl.py\u001b[0m\u001b]8;;\u001b\\\u001b[2m:\u001b[0m\u001b]8;id=497691;file:///users/ccvws98/spectre/build/bin/python/spectre/Pipelines/EccentricityControl/EccentricityControl.py#244\u001b\\\u001b[2m244\u001b[0m\u001b]8;;\u001b\\\n",
      "\u001b[2;36m          \u001b[0m\u001b[2;36m \u001b[0m\u001b[34mINFO    \u001b[0m ==== Function fitted to dD/dt:    \u001b]8;id=864398;file:///users/ccvws98/spectre/build/bin/python/spectre/Pipelines/EccentricityControl/EccentricityControl.py\u001b\\\u001b[2mEccentricityControl.py\u001b[0m\u001b]8;;\u001b\\\u001b[2m:\u001b[0m\u001b]8;id=787462;file:///users/ccvws98/spectre/build/bin/python/spectre/Pipelines/EccentricityControl/EccentricityControl.py#250\u001b\\\u001b[2m250\u001b[0m\u001b]8;;\u001b\\\n",
      "\u001b[2;36m           \u001b[0m         B*\u001b[1;35mcos\u001b[0m\u001b[1m(\u001b[0mw*t+np.pi/\u001b[1;36m2\u001b[0m\u001b[1m)\u001b[0m+const      ,   \u001b[2m                          \u001b[0m\n",
      "\u001b[2;36m           \u001b[0m         rms = \u001b[1;36m0.00341\u001b[0m  ====               \u001b[2m                          \u001b[0m\n",
      "\u001b[2;36m          \u001b[0m\u001b[2;36m \u001b[0m\u001b[34mINFO    \u001b[0m Fit parameters:                   \u001b]8;id=612182;file:///users/ccvws98/spectre/build/bin/python/spectre/Pipelines/EccentricityControl/EccentricityControl.py\u001b\\\u001b[2mEccentricityControl.py\u001b[0m\u001b]8;;\u001b\\\u001b[2m:\u001b[0m\u001b]8;id=132576;file:///users/ccvws98/spectre/build/bin/python/spectre/Pipelines/EccentricityControl/EccentricityControl.py#260\u001b\\\u001b[2m260\u001b[0m\u001b]8;;\u001b\\\n",
      "\u001b[2;36m          \u001b[0m\u001b[2;36m \u001b[0m\u001b[34mINFO    \u001b[0m Oscillatory part: \u001b[1m(\u001b[0mB, w,          \u001b]8;id=414606;file:///users/ccvws98/spectre/build/bin/python/spectre/Pipelines/EccentricityControl/EccentricityControl.py\u001b\\\u001b[2mEccentricityControl.py\u001b[0m\u001b]8;;\u001b\\\u001b[2m:\u001b[0m\u001b]8;id=164425;file:///users/ccvws98/spectre/build/bin/python/spectre/Pipelines/EccentricityControl/EccentricityControl.py#267\u001b\\\u001b[2m267\u001b[0m\u001b]8;;\u001b\\\n",
      "\u001b[2;36m           \u001b[0m         phi\u001b[1m)\u001b[0m=\u001b[1m(\u001b[0m\u001b[1;36m0.00228\u001b[0m, \u001b[1;36m0.0106\u001b[0m, \u001b[1;36m1.5708\u001b[0m\u001b[1m)\u001b[0m,   \u001b[2m                          \u001b[0m\n",
      "\u001b[2;36m          \u001b[0m\u001b[2;36m \u001b[0m\u001b[34mINFO    \u001b[0m Polynomial part: \u001b[1m(\u001b[0m\u001b[1;36m-0.00036\u001b[0m,       \u001b]8;id=13485;file:///users/ccvws98/spectre/build/bin/python/spectre/Pipelines/EccentricityControl/EccentricityControl.py\u001b\\\u001b[2mEccentricityControl.py\u001b[0m\u001b]8;;\u001b\\\u001b[2m:\u001b[0m\u001b]8;id=10273;file:///users/ccvws98/spectre/build/bin/python/spectre/Pipelines/EccentricityControl/EccentricityControl.py#272\u001b\\\u001b[2m272\u001b[0m\u001b]8;;\u001b\\\n",
      "\u001b[2;36m          \u001b[0m\u001b[2;36m \u001b[0m\u001b[34mINFO    \u001b[0m \u001b[1m)\u001b[0m                                 \u001b]8;id=957723;file:///users/ccvws98/spectre/build/bin/python/spectre/Pipelines/EccentricityControl/EccentricityControl.py\u001b\\\u001b[2mEccentricityControl.py\u001b[0m\u001b]8;;\u001b\\\u001b[2m:\u001b[0m\u001b]8;id=678993;file:///users/ccvws98/spectre/build/bin/python/spectre/Pipelines/EccentricityControl/EccentricityControl.py#275\u001b\\\u001b[2m275\u001b[0m\u001b]8;;\u001b\\\n",
      "\u001b[2;36m          \u001b[0m\u001b[2;36m \u001b[0m\u001b[34mINFO    \u001b[0m Eccentricity based on fit:        \u001b]8;id=834787;file:///users/ccvws98/spectre/build/bin/python/spectre/Pipelines/EccentricityControl/EccentricityControl.py\u001b\\\u001b[2mEccentricityControl.py\u001b[0m\u001b]8;;\u001b\\\u001b[2m:\u001b[0m\u001b]8;id=92599;file:///users/ccvws98/spectre/build/bin/python/spectre/Pipelines/EccentricityControl/EccentricityControl.py#278\u001b\\\u001b[2m278\u001b[0m\u001b]8;;\u001b\\\n",
      "\u001b[2;36m           \u001b[0m         \u001b[1;36m0.013979\u001b[0m                          \u001b[2m                          \u001b[0m\n",
      "\u001b[2;36m          \u001b[0m\u001b[2;36m \u001b[0m\u001b[34mINFO    \u001b[0m Suggested updates based on fit:   \u001b]8;id=917492;file:///users/ccvws98/spectre/build/bin/python/spectre/Pipelines/EccentricityControl/EccentricityControl.py\u001b\\\u001b[2mEccentricityControl.py\u001b[0m\u001b]8;;\u001b\\\u001b[2m:\u001b[0m\u001b]8;id=274944;file:///users/ccvws98/spectre/build/bin/python/spectre/Pipelines/EccentricityControl/EccentricityControl.py#283\u001b\\\u001b[2m283\u001b[0m\u001b]8;;\u001b\\\n",
      "\u001b[2;36m          \u001b[0m\u001b[2;36m \u001b[0m\u001b[34mINFO    \u001b[0m \u001b[1m(\u001b[0mdOmega, dadot\u001b[1m)\u001b[0m = \u001b[1m(\u001b[0m+\u001b[1;36m0.0000740693\u001b[0m, \u001b]8;id=859114;file:///users/ccvws98/spectre/build/bin/python/spectre/Pipelines/EccentricityControl/EccentricityControl.py\u001b\\\u001b[2mEccentricityControl.py\u001b[0m\u001b]8;;\u001b\\\u001b[2m:\u001b[0m\u001b]8;id=92162;file:///users/ccvws98/spectre/build/bin/python/spectre/Pipelines/EccentricityControl/EccentricityControl.py#284\u001b\\\u001b[2m284\u001b[0m\u001b]8;;\u001b\\\n",
      "\u001b[2;36m           \u001b[0m         \u001b[1;36m-9.07088e-21\u001b[0m\u001b[1m)\u001b[0m                     \u001b[2m                          \u001b[0m\n",
      "\u001b[2;36m          \u001b[0m\u001b[2;36m \u001b[0m\u001b[34mINFO    \u001b[0m ==== Function fitted to dD/dt:    \u001b]8;id=308935;file:///users/ccvws98/spectre/build/bin/python/spectre/Pipelines/EccentricityControl/EccentricityControl.py\u001b\\\u001b[2mEccentricityControl.py\u001b[0m\u001b]8;;\u001b\\\u001b[2m:\u001b[0m\u001b]8;id=194085;file:///users/ccvws98/spectre/build/bin/python/spectre/Pipelines/EccentricityControl/EccentricityControl.py#250\u001b\\\u001b[2m250\u001b[0m\u001b]8;;\u001b\\\n",
      "\u001b[2;36m           \u001b[0m         B*\u001b[1;35mcos\u001b[0m\u001b[1m(\u001b[0mw*t+phi\u001b[1m)\u001b[0m+const          ,   \u001b[2m                          \u001b[0m\n",
      "\u001b[2;36m           \u001b[0m         rms = \u001b[1;36m0.00365\u001b[0m  ====               \u001b[2m                          \u001b[0m\n",
      "\u001b[2;36m          \u001b[0m\u001b[2;36m \u001b[0m\u001b[34mINFO    \u001b[0m Fit parameters:                   \u001b]8;id=623540;file:///users/ccvws98/spectre/build/bin/python/spectre/Pipelines/EccentricityControl/EccentricityControl.py\u001b\\\u001b[2mEccentricityControl.py\u001b[0m\u001b]8;;\u001b\\\u001b[2m:\u001b[0m\u001b]8;id=528091;file:///users/ccvws98/spectre/build/bin/python/spectre/Pipelines/EccentricityControl/EccentricityControl.py#260\u001b\\\u001b[2m260\u001b[0m\u001b]8;;\u001b\\\n",
      "\u001b[2;36m          \u001b[0m\u001b[2;36m \u001b[0m\u001b[34mINFO    \u001b[0m Oscillatory part: \u001b[1m(\u001b[0mB, w,          \u001b]8;id=568050;file:///users/ccvws98/spectre/build/bin/python/spectre/Pipelines/EccentricityControl/EccentricityControl.py\u001b\\\u001b[2mEccentricityControl.py\u001b[0m\u001b]8;;\u001b\\\u001b[2m:\u001b[0m\u001b]8;id=829479;file:///users/ccvws98/spectre/build/bin/python/spectre/Pipelines/EccentricityControl/EccentricityControl.py#267\u001b\\\u001b[2m267\u001b[0m\u001b]8;;\u001b\\\n",
      "\u001b[2;36m           \u001b[0m         phi\u001b[1m)\u001b[0m=\u001b[1m(\u001b[0m\u001b[1;36m-0.00131\u001b[0m, \u001b[1;36m0.0071\u001b[0m, \u001b[1;36m-0.4423\u001b[0m\u001b[1m)\u001b[0m, \u001b[2m                          \u001b[0m\n",
      "\u001b[2;36m          \u001b[0m\u001b[2;36m \u001b[0m\u001b[34mINFO    \u001b[0m Polynomial part: \u001b[1m(\u001b[0m\u001b[1;36m-0.00038\u001b[0m,       \u001b]8;id=577515;file:///users/ccvws98/spectre/build/bin/python/spectre/Pipelines/EccentricityControl/EccentricityControl.py\u001b\\\u001b[2mEccentricityControl.py\u001b[0m\u001b]8;;\u001b\\\u001b[2m:\u001b[0m\u001b]8;id=765578;file:///users/ccvws98/spectre/build/bin/python/spectre/Pipelines/EccentricityControl/EccentricityControl.py#272\u001b\\\u001b[2m272\u001b[0m\u001b]8;;\u001b\\\n",
      "\u001b[2;36m          \u001b[0m\u001b[2;36m \u001b[0m\u001b[34mINFO    \u001b[0m \u001b[1m)\u001b[0m                                 \u001b]8;id=734848;file:///users/ccvws98/spectre/build/bin/python/spectre/Pipelines/EccentricityControl/EccentricityControl.py\u001b\\\u001b[2mEccentricityControl.py\u001b[0m\u001b]8;;\u001b\\\u001b[2m:\u001b[0m\u001b]8;id=592438;file:///users/ccvws98/spectre/build/bin/python/spectre/Pipelines/EccentricityControl/EccentricityControl.py#275\u001b\\\u001b[2m275\u001b[0m\u001b]8;;\u001b\\\n",
      "\u001b[2;36m          \u001b[0m\u001b[2;36m \u001b[0m\u001b[34mINFO    \u001b[0m Eccentricity based on fit:        \u001b]8;id=264916;file:///users/ccvws98/spectre/build/bin/python/spectre/Pipelines/EccentricityControl/EccentricityControl.py\u001b\\\u001b[2mEccentricityControl.py\u001b[0m\u001b]8;;\u001b\\\u001b[2m:\u001b[0m\u001b]8;id=112605;file:///users/ccvws98/spectre/build/bin/python/spectre/Pipelines/EccentricityControl/EccentricityControl.py#278\u001b\\\u001b[2m278\u001b[0m\u001b]8;;\u001b\\\n",
      "\u001b[2;36m           \u001b[0m         \u001b[1;36m0.012055\u001b[0m                          \u001b[2m                          \u001b[0m\n",
      "\u001b[2;36m          \u001b[0m\u001b[2;36m \u001b[0m\u001b[34mINFO    \u001b[0m Suggested updates based on fit:   \u001b]8;id=44629;file:///users/ccvws98/spectre/build/bin/python/spectre/Pipelines/EccentricityControl/EccentricityControl.py\u001b\\\u001b[2mEccentricityControl.py\u001b[0m\u001b]8;;\u001b\\\u001b[2m:\u001b[0m\u001b]8;id=686964;file:///users/ccvws98/spectre/build/bin/python/spectre/Pipelines/EccentricityControl/EccentricityControl.py#283\u001b\\\u001b[2m283\u001b[0m\u001b]8;;\u001b\\\n",
      "\u001b[2;36m          \u001b[0m\u001b[2;36m \u001b[0m\u001b[34mINFO    \u001b[0m \u001b[1m(\u001b[0mdOmega, dadot\u001b[1m)\u001b[0m = \u001b[1m(\u001b[0m+\u001b[1;36m0.0000182890\u001b[0m, \u001b]8;id=523111;file:///users/ccvws98/spectre/build/bin/python/spectre/Pipelines/EccentricityControl/EccentricityControl.py\u001b\\\u001b[2mEccentricityControl.py\u001b[0m\u001b]8;;\u001b\\\u001b[2m:\u001b[0m\u001b]8;id=35958;file:///users/ccvws98/spectre/build/bin/python/spectre/Pipelines/EccentricityControl/EccentricityControl.py#284\u001b\\\u001b[2m284\u001b[0m\u001b]8;;\u001b\\\n",
      "\u001b[2;36m           \u001b[0m         +\u001b[1;36m7.72417e-05\u001b[0m\u001b[1m)\u001b[0m                     \u001b[2m                          \u001b[0m\n",
      "\u001b[2;36m          \u001b[0m\u001b[2;36m \u001b[0m\u001b[34mINFO    \u001b[0m ==== Function fitted to dD/dt:    \u001b]8;id=570814;file:///users/ccvws98/spectre/build/bin/python/spectre/Pipelines/EccentricityControl/EccentricityControl.py\u001b\\\u001b[2mEccentricityControl.py\u001b[0m\u001b]8;;\u001b\\\u001b[2m:\u001b[0m\u001b]8;id=553644;file:///users/ccvws98/spectre/build/bin/python/spectre/Pipelines/EccentricityControl/EccentricityControl.py#250\u001b\\\u001b[2m250\u001b[0m\u001b]8;;\u001b\\\n",
      "\u001b[2;36m           \u001b[0m         B*\u001b[1;35mcos\u001b[0m\u001b[1m(\u001b[0mw*t+phi\u001b[1m)\u001b[0m+linear         ,   \u001b[2m                          \u001b[0m\n",
      "\u001b[2;36m           \u001b[0m         rms = \u001b[1;36m0.000341\u001b[0m  ====              \u001b[2m                          \u001b[0m\n",
      "\u001b[2;36m          \u001b[0m\u001b[2;36m \u001b[0m\u001b[34mINFO    \u001b[0m Fit parameters:                   \u001b]8;id=442323;file:///users/ccvws98/spectre/build/bin/python/spectre/Pipelines/EccentricityControl/EccentricityControl.py\u001b\\\u001b[2mEccentricityControl.py\u001b[0m\u001b]8;;\u001b\\\u001b[2m:\u001b[0m\u001b]8;id=948874;file:///users/ccvws98/spectre/build/bin/python/spectre/Pipelines/EccentricityControl/EccentricityControl.py#260\u001b\\\u001b[2m260\u001b[0m\u001b]8;;\u001b\\\n",
      "\u001b[2;36m          \u001b[0m\u001b[2;36m \u001b[0m\u001b[34mINFO    \u001b[0m Oscillatory part: \u001b[1m(\u001b[0mB, w,          \u001b]8;id=122271;file:///users/ccvws98/spectre/build/bin/python/spectre/Pipelines/EccentricityControl/EccentricityControl.py\u001b\\\u001b[2mEccentricityControl.py\u001b[0m\u001b]8;;\u001b\\\u001b[2m:\u001b[0m\u001b]8;id=264263;file:///users/ccvws98/spectre/build/bin/python/spectre/Pipelines/EccentricityControl/EccentricityControl.py#267\u001b\\\u001b[2m267\u001b[0m\u001b]8;;\u001b\\\n",
      "\u001b[2;36m           \u001b[0m         phi\u001b[1m)\u001b[0m=\u001b[1m(\u001b[0m\u001b[1;36m0.00536\u001b[0m, \u001b[1;36m0.0133\u001b[0m, \u001b[1;36m4.0791\u001b[0m\u001b[1m)\u001b[0m,   \u001b[2m                          \u001b[0m\n",
      "\u001b[2;36m          \u001b[0m\u001b[2;36m \u001b[0m\u001b[34mINFO    \u001b[0m Polynomial part: \u001b[1m(\u001b[0m\u001b[1;36m-0.00029\u001b[0m,       \u001b]8;id=569127;file:///users/ccvws98/spectre/build/bin/python/spectre/Pipelines/EccentricityControl/EccentricityControl.py\u001b\\\u001b[2mEccentricityControl.py\u001b[0m\u001b]8;;\u001b\\\u001b[2m:\u001b[0m\u001b]8;id=163121;file:///users/ccvws98/spectre/build/bin/python/spectre/Pipelines/EccentricityControl/EccentricityControl.py#272\u001b\\\u001b[2m272\u001b[0m\u001b]8;;\u001b\\\n",
      "\u001b[2;36m          \u001b[0m\u001b[2;36m \u001b[0m\u001b[34mINFO    \u001b[0m \u001b[1;36m-3.2e-07\u001b[0m                          \u001b]8;id=293146;file:///users/ccvws98/spectre/build/bin/python/spectre/Pipelines/EccentricityControl/EccentricityControl.py\u001b\\\u001b[2mEccentricityControl.py\u001b[0m\u001b]8;;\u001b\\\u001b[2m:\u001b[0m\u001b]8;id=362092;file:///users/ccvws98/spectre/build/bin/python/spectre/Pipelines/EccentricityControl/EccentricityControl.py#274\u001b\\\u001b[2m274\u001b[0m\u001b]8;;\u001b\\\n",
      "\u001b[2;36m          \u001b[0m\u001b[2;36m \u001b[0m\u001b[34mINFO    \u001b[0m \u001b[1m)\u001b[0m                                 \u001b]8;id=4107;file:///users/ccvws98/spectre/build/bin/python/spectre/Pipelines/EccentricityControl/EccentricityControl.py\u001b\\\u001b[2mEccentricityControl.py\u001b[0m\u001b]8;;\u001b\\\u001b[2m:\u001b[0m\u001b]8;id=389965;file:///users/ccvws98/spectre/build/bin/python/spectre/Pipelines/EccentricityControl/EccentricityControl.py#275\u001b\\\u001b[2m275\u001b[0m\u001b]8;;\u001b\\\n",
      "\u001b[2;36m          \u001b[0m\u001b[2;36m \u001b[0m\u001b[34mINFO    \u001b[0m Eccentricity based on fit:        \u001b]8;id=330534;file:///users/ccvws98/spectre/build/bin/python/spectre/Pipelines/EccentricityControl/EccentricityControl.py\u001b\\\u001b[2mEccentricityControl.py\u001b[0m\u001b]8;;\u001b\\\u001b[2m:\u001b[0m\u001b]8;id=569766;file:///users/ccvws98/spectre/build/bin/python/spectre/Pipelines/EccentricityControl/EccentricityControl.py#278\u001b\\\u001b[2m278\u001b[0m\u001b]8;;\u001b\\\n",
      "\u001b[2;36m           \u001b[0m         \u001b[1;36m0.026234\u001b[0m                          \u001b[2m                          \u001b[0m\n",
      "\u001b[2;36m          \u001b[0m\u001b[2;36m \u001b[0m\u001b[34mINFO    \u001b[0m Suggested updates based on fit:   \u001b]8;id=978548;file:///users/ccvws98/spectre/build/bin/python/spectre/Pipelines/EccentricityControl/EccentricityControl.py\u001b\\\u001b[2mEccentricityControl.py\u001b[0m\u001b]8;;\u001b\\\u001b[2m:\u001b[0m\u001b]8;id=955936;file:///users/ccvws98/spectre/build/bin/python/spectre/Pipelines/EccentricityControl/EccentricityControl.py#283\u001b\\\u001b[2m283\u001b[0m\u001b]8;;\u001b\\\n",
      "\u001b[2;36m          \u001b[0m\u001b[2;36m \u001b[0m\u001b[34mINFO    \u001b[0m \u001b[1m(\u001b[0mdOmega, dadot\u001b[1m)\u001b[0m = \u001b[1m(\u001b[0m\u001b[1;36m-0.0001405597\u001b[0m, \u001b]8;id=50291;file:///users/ccvws98/spectre/build/bin/python/spectre/Pipelines/EccentricityControl/EccentricityControl.py\u001b\\\u001b[2mEccentricityControl.py\u001b[0m\u001b]8;;\u001b\\\u001b[2m:\u001b[0m\u001b]8;id=781564;file:///users/ccvws98/spectre/build/bin/python/spectre/Pipelines/EccentricityControl/EccentricityControl.py#284\u001b\\\u001b[2m284\u001b[0m\u001b]8;;\u001b\\\n",
      "\u001b[2;36m           \u001b[0m         +\u001b[1;36m0.000206395\u001b[0m\u001b[1m)\u001b[0m                     \u001b[2m                          \u001b[0m\n",
      "\u001b[2;36m          \u001b[0m\u001b[2;36m \u001b[0m\u001b[34mINFO    \u001b[0m ==== Function fitted to dD/dt:    \u001b]8;id=358963;file:///users/ccvws98/spectre/build/bin/python/spectre/Pipelines/EccentricityControl/EccentricityControl.py\u001b\\\u001b[2mEccentricityControl.py\u001b[0m\u001b]8;;\u001b\\\u001b[2m:\u001b[0m\u001b]8;id=360201;file:///users/ccvws98/spectre/build/bin/python/spectre/Pipelines/EccentricityControl/EccentricityControl.py#250\u001b\\\u001b[2m250\u001b[0m\u001b]8;;\u001b\\\n",
      "\u001b[2;36m           \u001b[0m         B*\u001b[1;35mcos\u001b[0m\u001b[1m(\u001b[0mw*t+phi\u001b[1m)\u001b[0m+quadratic      ,   \u001b[2m                          \u001b[0m\n",
      "\u001b[2;36m           \u001b[0m         rms = \u001b[1;36m0.000272\u001b[0m  ====              \u001b[2m                          \u001b[0m\n",
      "\u001b[2;36m          \u001b[0m\u001b[2;36m \u001b[0m\u001b[34mINFO    \u001b[0m Fit parameters:                   \u001b]8;id=583547;file:///users/ccvws98/spectre/build/bin/python/spectre/Pipelines/EccentricityControl/EccentricityControl.py\u001b\\\u001b[2mEccentricityControl.py\u001b[0m\u001b]8;;\u001b\\\u001b[2m:\u001b[0m\u001b]8;id=201771;file:///users/ccvws98/spectre/build/bin/python/spectre/Pipelines/EccentricityControl/EccentricityControl.py#260\u001b\\\u001b[2m260\u001b[0m\u001b]8;;\u001b\\\n",
      "\u001b[2;36m          \u001b[0m\u001b[2;36m \u001b[0m\u001b[34mINFO    \u001b[0m Oscillatory part: \u001b[1m(\u001b[0mB, w,          \u001b]8;id=16499;file:///users/ccvws98/spectre/build/bin/python/spectre/Pipelines/EccentricityControl/EccentricityControl.py\u001b\\\u001b[2mEccentricityControl.py\u001b[0m\u001b]8;;\u001b\\\u001b[2m:\u001b[0m\u001b]8;id=814711;file:///users/ccvws98/spectre/build/bin/python/spectre/Pipelines/EccentricityControl/EccentricityControl.py#267\u001b\\\u001b[2m267\u001b[0m\u001b]8;;\u001b\\\n",
      "\u001b[2;36m           \u001b[0m         phi\u001b[1m)\u001b[0m=\u001b[1m(\u001b[0m\u001b[1;36m0.00535\u001b[0m, \u001b[1;36m0.0133\u001b[0m, \u001b[1;36m4.0808\u001b[0m\u001b[1m)\u001b[0m,   \u001b[2m                          \u001b[0m\n",
      "\u001b[2;36m          \u001b[0m\u001b[2;36m \u001b[0m\u001b[34mINFO    \u001b[0m Polynomial part: \u001b[1m(\u001b[0m\u001b[1;36m0.0014\u001b[0m,         \u001b]8;id=343895;file:///users/ccvws98/spectre/build/bin/python/spectre/Pipelines/EccentricityControl/EccentricityControl.py\u001b\\\u001b[2mEccentricityControl.py\u001b[0m\u001b]8;;\u001b\\\u001b[2m:\u001b[0m\u001b]8;id=153649;file:///users/ccvws98/spectre/build/bin/python/spectre/Pipelines/EccentricityControl/EccentricityControl.py#272\u001b\\\u001b[2m272\u001b[0m\u001b]8;;\u001b\\\n",
      "\u001b[2;36m          \u001b[0m\u001b[2;36m \u001b[0m\u001b[34mINFO    \u001b[0m \u001b[1;36m-3.5e-06\u001b[0m                          \u001b]8;id=580526;file:///users/ccvws98/spectre/build/bin/python/spectre/Pipelines/EccentricityControl/EccentricityControl.py\u001b\\\u001b[2mEccentricityControl.py\u001b[0m\u001b]8;;\u001b\\\u001b[2m:\u001b[0m\u001b]8;id=862745;file:///users/ccvws98/spectre/build/bin/python/spectre/Pipelines/EccentricityControl/EccentricityControl.py#274\u001b\\\u001b[2m274\u001b[0m\u001b]8;;\u001b\\\n",
      "\u001b[2;36m          \u001b[0m\u001b[2;36m \u001b[0m\u001b[34mINFO    \u001b[0m \u001b[1;36m1.3e-09\u001b[0m                           \u001b]8;id=55757;file:///users/ccvws98/spectre/build/bin/python/spectre/Pipelines/EccentricityControl/EccentricityControl.py\u001b\\\u001b[2mEccentricityControl.py\u001b[0m\u001b]8;;\u001b\\\u001b[2m:\u001b[0m\u001b]8;id=734939;file:///users/ccvws98/spectre/build/bin/python/spectre/Pipelines/EccentricityControl/EccentricityControl.py#274\u001b\\\u001b[2m274\u001b[0m\u001b]8;;\u001b\\\n",
      "\u001b[2;36m          \u001b[0m\u001b[2;36m \u001b[0m\u001b[34mINFO    \u001b[0m \u001b[1m)\u001b[0m                                 \u001b]8;id=706006;file:///users/ccvws98/spectre/build/bin/python/spectre/Pipelines/EccentricityControl/EccentricityControl.py\u001b\\\u001b[2mEccentricityControl.py\u001b[0m\u001b]8;;\u001b\\\u001b[2m:\u001b[0m\u001b]8;id=32160;file:///users/ccvws98/spectre/build/bin/python/spectre/Pipelines/EccentricityControl/EccentricityControl.py#275\u001b\\\u001b[2m275\u001b[0m\u001b]8;;\u001b\\\n",
      "\u001b[2;36m          \u001b[0m\u001b[2;36m \u001b[0m\u001b[34mINFO    \u001b[0m Eccentricity based on fit:        \u001b]8;id=414354;file:///users/ccvws98/spectre/build/bin/python/spectre/Pipelines/EccentricityControl/EccentricityControl.py\u001b\\\u001b[2mEccentricityControl.py\u001b[0m\u001b]8;;\u001b\\\u001b[2m:\u001b[0m\u001b]8;id=369743;file:///users/ccvws98/spectre/build/bin/python/spectre/Pipelines/EccentricityControl/EccentricityControl.py#278\u001b\\\u001b[2m278\u001b[0m\u001b]8;;\u001b\\\n",
      "\u001b[2;36m           \u001b[0m         \u001b[1;36m0.026197\u001b[0m                          \u001b[2m                          \u001b[0m\n",
      "\u001b[2;36m          \u001b[0m\u001b[2;36m \u001b[0m\u001b[34mINFO    \u001b[0m Suggested updates based on fit:   \u001b]8;id=911549;file:///users/ccvws98/spectre/build/bin/python/spectre/Pipelines/EccentricityControl/EccentricityControl.py\u001b\\\u001b[2mEccentricityControl.py\u001b[0m\u001b]8;;\u001b\\\u001b[2m:\u001b[0m\u001b]8;id=18833;file:///users/ccvws98/spectre/build/bin/python/spectre/Pipelines/EccentricityControl/EccentricityControl.py#283\u001b\\\u001b[2m283\u001b[0m\u001b]8;;\u001b\\\n",
      "\u001b[2;36m          \u001b[0m\u001b[2;36m \u001b[0m\u001b[34mINFO    \u001b[0m \u001b[1m(\u001b[0mdOmega, dadot\u001b[1m)\u001b[0m = \u001b[1m(\u001b[0m\u001b[1;36m-0.0001404117\u001b[0m, \u001b]8;id=734282;file:///users/ccvws98/spectre/build/bin/python/spectre/Pipelines/EccentricityControl/EccentricityControl.py\u001b\\\u001b[2mEccentricityControl.py\u001b[0m\u001b]8;;\u001b\\\u001b[2m:\u001b[0m\u001b]8;id=21025;file:///users/ccvws98/spectre/build/bin/python/spectre/Pipelines/EccentricityControl/EccentricityControl.py#284\u001b\\\u001b[2m284\u001b[0m\u001b]8;;\u001b\\\n",
      "\u001b[2;36m           \u001b[0m         +\u001b[1;36m0.000205447\u001b[0m\u001b[1m)\u001b[0m                     \u001b[2m                          \u001b[0m\n"
     ]
    }
   ],
   "source": [
    "%%bash\n",
    "export BBH_DATA=/oscar/data/icerm/knelli/workshop_materials/01_monday/bbh_inspiral\n",
    "\n",
    "spectre eccentricity-control $BBH_DATA/BbhReductions.h5 --tmin 500 --tmax 2000 -o eccentricity.pdf"
   ]
  },
  {
   "cell_type": "markdown",
   "metadata": {},
   "source": [
    "## Inspecting the Inspiral input file\n",
    "\n",
    "SpECTRE simulations are defined by an input file in YAML format. The input file\n",
    "collects all options for the simulation and also specifies the C++ executable to\n",
    "run it.\n",
    "\n",
    "The inspiral input file that you just started running is here:\n",
    "\n",
    "```\n",
    "runs/01_bbh/002_Inspiral/Segment_0000/Inspiral.yaml\n",
    "```\n",
    "\n",
    "Open the input file to inspect it (either here in Jupyter, in a terminal with\n",
    "vim/emacs, in VSCode, or with `cat /path/to/input/file`). We'll go through some\n",
    "of the important options together."
   ]
  },
  {
   "cell_type": "markdown",
   "metadata": {},
   "source": [
    "## Reproducibility of simulations\n",
    "\n",
    "A quick note on reproducibility, which is a crucial topic in scientific\n",
    "computing:\n",
    "\n",
    "SpECTRE simulations are reasonably well reproducible because (1) all options are\n",
    "defined in the YAML input file, and (2) the input file and even the entire\n",
    "source code used to compile the executable are stored in each H5 output file.\n",
    "\n",
    "So, for the highest level of reproducibility you can extract the input file from\n",
    "an H5 output file (see `spectre extract-input --help`), and also extract the\n",
    "source code archive (see\n",
    "[docs](https://spectre-code.org/tutorial_visualization.html#autotoc_md93)), then\n",
    "compile and run the executable.\n",
    "\n",
    "To help with reproducibility of results you publish in papers, we recommend that\n",
    "you publish your input files as supplementary material and also cite the\n",
    "specific code release with which you ran your simulations (see [Versioning and\n",
    "releases](https://spectre-code.org/versioning_and_releases.html))."
   ]
  },
  {
   "cell_type": "markdown",
   "metadata": {},
   "source": [
    "## Troubleshooting a BBH simulation\n",
    "\n",
    "If something fails (and of course it will), you can start by looking through the\n",
    "data you have. First, look at the log file of your simulation. It's often named\n",
    "`spectre.out` and located in the run directory of your simulation. Go to the\n",
    "very end of the file and look for error messages. If you see many error\n",
    "messages, the first one is often most helpful. Ideally, you'll find a stack\n",
    "trace with the function calls that lead to the error. The error message and the\n",
    "stack trace might already give you an idea as to what has happened.\n",
    "\n",
    "It will also be helpful to analyse the output data that your simulation has\n",
    "written up to this point, and look for anything fishy. In the next tutorial we\n",
    "will go through a lot of ways to analyse output data from your simulations.\n",
    "\n",
    "Once you have collected some clues as to what as happened, the best place to ask\n",
    "for help is the `#spectre` channel on the SXS Slack or email the core developers\n",
    "(core-devs@spectre-code.org). If your run is on a shared supercomputer then send\n",
    "along a file system path to your run and make sure it is publicly readable."
   ]
  },
  {
   "cell_type": "markdown",
   "metadata": {},
   "source": [
    "### Incoming characteristic speeds error\n",
    "\n",
    "By far the most common error you'll see in BBH runs with SpECTRE (and with SpEC for that matter) is something we refer to as \"incoming char speeds\". The error will look something like this:\n",
    "\n",
    "```\n",
    "DemandOutgoingCharSpeeds boundary condition violated with speed index 3 ingoing: -7.02605e-05\n",
    " speed: <a lot of numbers here that don't really matter>\n",
    "\n",
    "See gh::characteristic_speeds for the index ordering of characteristic speeds\n",
    "\n",
    "In element:[B14,(L1I1,L1I0,L2I0)]\n",
    "In direction: -2\n",
    "############ ERROR ############\n",
    "\n",
    "Type: SpectreError\n",
    "```\n",
    "\n",
    "While very common to get, this error is only a symptom of what really went\n",
    "wrong. Basically what's happening here is that with the Generalized Harmonic\n",
    "formulation, we have characteristic fields of the first order evolution\n",
    "equations that read as\n",
    "\n",
    "$$\n",
    "\\begin{align}\n",
    "  w^{g}_{ab} &= g_{ab}, \\\\\n",
    "  w^{0}_{iab} &= (\\delta^k_i-s^k s_i)\\Phi_{kab}, \\\\\n",
    "  w^{\\pm}_{ab} &= \\Pi_{ab}\\pm s^i\\Phi_{iab} -\\gamma_2 g_{ab},\n",
    "\\end{align}\n",
    "$$\n",
    "with associated characteristic speeds\n",
    "$$\n",
    "\\begin{align}\n",
    "  \\lambda_{w^g} =& -(1+\\gamma_1)\\beta^i s_i -v^i_g s_i, \\\\\n",
    "  \\lambda_{w^0} =& -\\beta^i s_i -v^i_g s_i, \\\\\n",
    "  \\lambda_{w^\\pm} =& \\pm \\alpha - \\beta^i s_i - v^i_g s_i,\n",
    "\\end{align}\n",
    "$$\n",
    "\n",
    "Specifically, the incoming char speed error is that $\\lambda_{w^-} < 0$ which\n",
    "means that we have information flowing into the computational domain from the\n",
    "excision surfaces. The issue is that we don't impose boundary conditions on the\n",
    "excisions. (think, what would those boundary conditions actually be?) Therefore,\n",
    "when $\\lambda_{w^-} < 0$, we just error out because there's nothing else to do.\n",
    "\n",
    "In order to find the real cause of what went wrong, you have to analyze all the\n",
    "output from the simulation. The first thing to look at in this case is what the\n",
    "control system is doing (which controls the size and shape of the excision\n",
    "surfaces). There are two CLI commands that will give a good overview of what\n",
    "happened (we use the sample BBH data here again):"
   ]
  },
  {
   "cell_type": "code",
   "execution_count": null,
   "metadata": {},
   "outputs": [],
   "source": [
    "%%bash\n",
    "export BBH_DATA=/oscar/data/icerm/knelli/workshop_materials/01_monday/bbh_inspiral\n",
    "\n",
    "# There are two BHs, A and B. Choose A for now\n",
    "spectre plot size-control -d A -o runs/SizeA.pdf $BBH_DATA/BbhReductions.h5\n",
    "spectre plot control-system -o runs/ControlSystem.pdf $BBH_DATA/BbhReductions.h5"
   ]
  },
  {
   "cell_type": "markdown",
   "metadata": {},
   "source": [
    "Take a look at the PDFs that were produced. We won't go into details about these\n",
    "plots, but if you include these in your message to the Slack or core devs,\n",
    "they'll be extremely grateful :)"
   ]
  },
  {
   "cell_type": "markdown",
   "metadata": {},
   "source": [
    "## Running other simulations\n",
    "\n",
    "We have so far only built a pipeline for BBH simulations. Other executables can\n",
    "be run by editing a YAML input file and passing it to the executable. Many\n",
    "executables have example input files in the `tests/InputFiles/` directory that\n",
    "you can take as a starting point. For example, we can run a quick scalar wave\n",
    "like this:\n",
    "\n",
    "```sh\n",
    "spectre run $SPECTRE_HOME/tests/InputFiles/ScalarWave/PlaneWave3D.yaml -o runs/02_scalar_wave\n",
    "```"
   ]
  },
  {
   "cell_type": "markdown",
   "metadata": {},
   "source": [
    "The `run` command (or its alias `schedule`) will submit a job with the input\n",
    "file. It also allows you to put placeholders in the input file that can be\n",
    "filled from the command line. For example, make this change in\n",
    "`$SPECTRE_HOME/tests/InputFiles/PlaneWave3D.yaml`:\n",
    "\n",
    "```diff\n",
    "@@ -20,7 +20,7 @@ InitialData:\n",
    "     Center: [0.0, 0.0, 0.0]\n",
    "     Profile:\n",
    "       Sinusoid:\n",
    "-        Amplitude: 1.0\n",
    "+        Amplitude: {{ amplitude }}\n",
    "         Wavenumber: 1.0\n",
    "         Phase: 0.0\n",
    "```\n",
    "\n",
    "Now you can run it like this:\n",
    "\n",
    "```sh\n",
    "spectre run $SPECTRE_HOME/tests/InputFiles/PlaneWave3D.yaml \\\n",
    "  -o \"test_scalar_wave_A{{amplitude}}\" -p amplitude=1,2,3\n",
    "```"
   ]
  },
  {
   "cell_type": "markdown",
   "metadata": {},
   "source": [
    "Three jobs will be run, each with a different value of the amplitude.\n",
    "\n",
    "You can also run executables manually, like this:\n",
    "\n",
    "```sh\n",
    "$SPECTRE_BUILD/EvolveScalarWave3D --input-file INPUT_FILE\n",
    "```\n",
    "\n",
    "With this method you have to deal with output directories, submit scripts, etc.\n",
    "yourself, so we recommend using `spectre run`/`spectre schedule` instead."
   ]
  }
 ],
 "metadata": {
  "kernelspec": {
   "display_name": "Python 3 (ipykernel)",
   "language": "python",
   "name": "python3"
  },
  "language_info": {
   "codemirror_mode": {
    "name": "ipython",
    "version": 3
   },
   "file_extension": ".py",
   "mimetype": "text/x-python",
   "name": "python",
   "nbconvert_exporter": "python",
   "pygments_lexer": "ipython3",
   "version": "3.9.16"
  }
 },
 "nbformat": 4,
 "nbformat_minor": 4
}
